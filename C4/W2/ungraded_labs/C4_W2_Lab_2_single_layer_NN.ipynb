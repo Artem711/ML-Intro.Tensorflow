{
 "cells": [
  {
   "cell_type": "markdown",
   "metadata": {
    "colab_type": "text",
    "id": "view-in-github"
   },
   "source": [
    "<a href=\"https://colab.research.google.com/github/https-deeplearning-ai/tensorflow-1-public/blob/adding_C4/C4/W2/ungraded_labs/C4_W2_Lab_2_single_layer_NN.ipynb\" target=\"_parent\"><img src=\"https://colab.research.google.com/assets/colab-badge.svg\" alt=\"Open In Colab\"/></a>"
   ]
  },
  {
   "cell_type": "code",
   "execution_count": 1,
   "metadata": {
    "id": "zX4Kg8DUTKWO"
   },
   "outputs": [],
   "source": [
    "#@title Licensed under the Apache License, Version 2.0 (the \"License\");\n",
    "# you may not use this file except in compliance with the License.\n",
    "# You may obtain a copy of the License at\n",
    "#\n",
    "# https://www.apache.org/licenses/LICENSE-2.0\n",
    "#\n",
    "# Unless required by applicable law or agreed to in writing, software\n",
    "# distributed under the License is distributed on an \"AS IS\" BASIS,\n",
    "# WITHOUT WARRANTIES OR CONDITIONS OF ANY KIND, either express or implied.\n",
    "# See the License for the specific language governing permissions and\n",
    "# limitations under the License."
   ]
  },
  {
   "cell_type": "markdown",
   "metadata": {
    "id": "_gF4XzEabSSI"
   },
   "source": [
    "**Note:** This notebook can run using TensorFlow 2.5.0"
   ]
  },
  {
   "cell_type": "code",
   "execution_count": 2,
   "metadata": {
    "id": "-pwam8szRReT"
   },
   "outputs": [],
   "source": [
    "#!pip install tensorflow==2.5.0"
   ]
  },
  {
   "cell_type": "code",
   "execution_count": 3,
   "metadata": {
    "id": "BOjujz601HcS",
    "outputId": "a274f447-8c60-4bdd-923c-be10937491f5"
   },
   "outputs": [
    {
     "name": "stdout",
     "output_type": "stream",
     "text": [
      "2.8.0\n"
     ]
    }
   ],
   "source": [
    "import tensorflow as tf\n",
    "import numpy as np\n",
    "import matplotlib.pyplot as plt\n",
    "print(tf.__version__)"
   ]
  },
  {
   "cell_type": "code",
   "execution_count": 4,
   "metadata": {
    "id": "Zswl7jRtGzkk"
   },
   "outputs": [],
   "source": [
    "def plot_series(time, series, format=\"-\", start=0, end=None):\n",
    "    plt.plot(time[start:end], series[start:end], format)\n",
    "    plt.xlabel(\"Time\")\n",
    "    plt.ylabel(\"Value\")\n",
    "    plt.grid(True)\n",
    "\n",
    "def trend(time, slope=0):\n",
    "    return slope * time\n",
    "\n",
    "def seasonal_pattern(season_time):\n",
    "    \"\"\"Just an arbitrary pattern, you can change it if you wish\"\"\"\n",
    "    return np.where(season_time < 0.4,\n",
    "                    np.cos(season_time * 2 * np.pi),\n",
    "                    1 / np.exp(3 * season_time))\n",
    "\n",
    "def seasonality(time, period, amplitude=1, phase=0):\n",
    "    \"\"\"Repeats the same pattern at each period\"\"\"\n",
    "    season_time = ((time + phase) % period) / period\n",
    "    return amplitude * seasonal_pattern(season_time)\n",
    "\n",
    "def noise(time, noise_level=1, seed=None):\n",
    "    rnd = np.random.RandomState(seed)\n",
    "    return rnd.randn(len(time)) * noise_level\n",
    "\n",
    "time = np.arange(4 * 365 + 1, dtype=\"float32\")\n",
    "baseline = 10\n",
    "series = trend(time, 0.1)  \n",
    "baseline = 10\n",
    "amplitude = 40\n",
    "slope = 0.05\n",
    "noise_level = 5\n",
    "\n",
    "# Create the series\n",
    "series = baseline + trend(time, slope) + seasonality(time, period=365, amplitude=amplitude)\n",
    "# Update with noise\n",
    "series += noise(time, noise_level, seed=42)\n",
    "\n",
    "split_time = 1000\n",
    "time_train = time[:split_time]\n",
    "x_train = series[:split_time]\n",
    "time_valid = time[split_time:]\n",
    "x_valid = series[split_time:]\n",
    "\n",
    "window_size = 20\n",
    "batch_size = 32\n",
    "shuffle_buffer_size = 1000"
   ]
  },
  {
   "cell_type": "code",
   "execution_count": 5,
   "metadata": {
    "id": "4sTTIOCbyShY"
   },
   "outputs": [],
   "source": [
    "def windowed_dataset(series, window_size, batch_size, shuffle_buffer):\n",
    "  dataset = tf.data.Dataset.from_tensor_slices(series)\n",
    "  dataset = dataset.window(window_size + 1, shift=1, drop_remainder=True)\n",
    "  dataset = dataset.flat_map(lambda window: window.batch(window_size + 1))\n",
    "  dataset = dataset.shuffle(shuffle_buffer).map(lambda window: (window[:-1], window[-1]))\n",
    "  dataset = dataset.batch(batch_size).prefetch(1)\n",
    "  return dataset"
   ]
  },
  {
   "cell_type": "code",
   "execution_count": 7,
   "metadata": {
    "id": "ou-WmE2AXu6B",
    "outputId": "99e7032e-7101-432f-e36b-4949c10d44a7"
   },
   "outputs": [
    {
     "name": "stdout",
     "output_type": "stream",
     "text": [
      "<PrefetchDataset element_spec=(TensorSpec(shape=(None, None), dtype=tf.float32, name=None), TensorSpec(shape=(None,), dtype=tf.float32, name=None))>\n",
      "Epoch 1/100\n",
      "31/31 [==============================] - 0s 4ms/step - loss: 2590.1938\n",
      "Epoch 2/100\n"
     ]
    },
    {
     "name": "stderr",
     "output_type": "stream",
     "text": [
      "2022-03-21 16:51:55.637609: I tensorflow/core/grappler/optimizers/custom_graph_optimizer_registry.cc:113] Plugin optimizer for device_type GPU is enabled.\n"
     ]
    },
    {
     "name": "stdout",
     "output_type": "stream",
     "text": [
      "31/31 [==============================] - 0s 3ms/step - loss: 220.7336\n",
      "Epoch 3/100\n",
      "31/31 [==============================] - 0s 3ms/step - loss: 121.7660\n",
      "Epoch 4/100\n",
      "31/31 [==============================] - 0s 3ms/step - loss: 112.1871\n",
      "Epoch 5/100\n",
      "31/31 [==============================] - 0s 3ms/step - loss: 105.3187\n",
      "Epoch 6/100\n",
      "31/31 [==============================] - 0s 4ms/step - loss: 100.6414\n",
      "Epoch 7/100\n",
      "31/31 [==============================] - 0s 3ms/step - loss: 97.0734\n",
      "Epoch 8/100\n",
      "31/31 [==============================] - 0s 3ms/step - loss: 91.2843\n",
      "Epoch 9/100\n",
      "31/31 [==============================] - 0s 3ms/step - loss: 88.4351\n",
      "Epoch 10/100\n",
      "31/31 [==============================] - 0s 3ms/step - loss: 84.2849\n",
      "Epoch 11/100\n",
      "31/31 [==============================] - 0s 3ms/step - loss: 81.2910\n",
      "Epoch 12/100\n",
      "31/31 [==============================] - 0s 3ms/step - loss: 80.3242\n",
      "Epoch 13/100\n",
      "31/31 [==============================] - 0s 3ms/step - loss: 76.5725\n",
      "Epoch 14/100\n",
      "31/31 [==============================] - 0s 3ms/step - loss: 74.4178\n",
      "Epoch 15/100\n",
      "31/31 [==============================] - 0s 3ms/step - loss: 72.8229\n",
      "Epoch 16/100\n",
      "31/31 [==============================] - 0s 3ms/step - loss: 70.6044\n",
      "Epoch 17/100\n",
      "31/31 [==============================] - 0s 3ms/step - loss: 69.6005\n",
      "Epoch 18/100\n",
      "31/31 [==============================] - 0s 3ms/step - loss: 66.9757\n",
      "Epoch 19/100\n",
      "31/31 [==============================] - 0s 3ms/step - loss: 66.9407\n",
      "Epoch 20/100\n",
      "31/31 [==============================] - 0s 3ms/step - loss: 64.7262\n",
      "Epoch 21/100\n",
      "31/31 [==============================] - 0s 3ms/step - loss: 63.6572\n",
      "Epoch 22/100\n",
      "31/31 [==============================] - 0s 3ms/step - loss: 62.8305\n",
      "Epoch 23/100\n",
      "31/31 [==============================] - 0s 3ms/step - loss: 62.1085\n",
      "Epoch 24/100\n",
      "31/31 [==============================] - 0s 3ms/step - loss: 61.5690\n",
      "Epoch 25/100\n",
      "31/31 [==============================] - 0s 3ms/step - loss: 59.5412\n",
      "Epoch 26/100\n",
      "31/31 [==============================] - 0s 3ms/step - loss: 59.1582\n",
      "Epoch 27/100\n",
      "31/31 [==============================] - 0s 3ms/step - loss: 57.8008\n",
      "Epoch 28/100\n",
      "31/31 [==============================] - 0s 3ms/step - loss: 56.8306\n",
      "Epoch 29/100\n",
      "31/31 [==============================] - 0s 3ms/step - loss: 56.1142\n",
      "Epoch 30/100\n",
      "31/31 [==============================] - 0s 3ms/step - loss: 55.9339\n",
      "Epoch 31/100\n",
      "31/31 [==============================] - 0s 3ms/step - loss: 55.1959\n",
      "Epoch 32/100\n",
      "31/31 [==============================] - 0s 3ms/step - loss: 54.3751\n",
      "Epoch 33/100\n",
      "31/31 [==============================] - 0s 3ms/step - loss: 54.3134\n",
      "Epoch 34/100\n",
      "31/31 [==============================] - 0s 3ms/step - loss: 53.2529\n",
      "Epoch 35/100\n",
      "31/31 [==============================] - 0s 3ms/step - loss: 53.3117\n",
      "Epoch 36/100\n",
      "31/31 [==============================] - 0s 3ms/step - loss: 52.2139\n",
      "Epoch 37/100\n",
      "31/31 [==============================] - 0s 3ms/step - loss: 51.8498\n",
      "Epoch 38/100\n",
      "31/31 [==============================] - 0s 3ms/step - loss: 51.3514\n",
      "Epoch 39/100\n",
      "31/31 [==============================] - 0s 3ms/step - loss: 50.9066\n",
      "Epoch 40/100\n",
      "31/31 [==============================] - 0s 3ms/step - loss: 50.4413\n",
      "Epoch 41/100\n",
      "31/31 [==============================] - 0s 3ms/step - loss: 51.5663\n",
      "Epoch 42/100\n",
      "31/31 [==============================] - 0s 3ms/step - loss: 50.2173\n",
      "Epoch 43/100\n",
      "31/31 [==============================] - 0s 3ms/step - loss: 51.4661\n",
      "Epoch 44/100\n",
      "31/31 [==============================] - 0s 3ms/step - loss: 49.0647\n",
      "Epoch 45/100\n",
      "31/31 [==============================] - 0s 3ms/step - loss: 48.8648\n",
      "Epoch 46/100\n",
      "31/31 [==============================] - 0s 3ms/step - loss: 48.4291\n",
      "Epoch 47/100\n",
      "31/31 [==============================] - 0s 4ms/step - loss: 48.7161\n",
      "Epoch 48/100\n",
      "31/31 [==============================] - 0s 3ms/step - loss: 48.0763\n",
      "Epoch 49/100\n",
      "31/31 [==============================] - 0s 4ms/step - loss: 48.0633\n",
      "Epoch 50/100\n",
      "31/31 [==============================] - 0s 3ms/step - loss: 47.3367\n",
      "Epoch 51/100\n",
      "31/31 [==============================] - 0s 4ms/step - loss: 47.7634\n",
      "Epoch 52/100\n",
      "31/31 [==============================] - 0s 3ms/step - loss: 47.2558\n",
      "Epoch 53/100\n",
      "31/31 [==============================] - 0s 4ms/step - loss: 46.8037\n",
      "Epoch 54/100\n",
      "31/31 [==============================] - 0s 4ms/step - loss: 46.9211\n",
      "Epoch 55/100\n",
      "31/31 [==============================] - 0s 3ms/step - loss: 47.4210\n",
      "Epoch 56/100\n",
      "31/31 [==============================] - 0s 3ms/step - loss: 46.3542\n",
      "Epoch 57/100\n",
      "31/31 [==============================] - 0s 4ms/step - loss: 46.1386\n",
      "Epoch 58/100\n",
      "31/31 [==============================] - 0s 4ms/step - loss: 46.2174\n",
      "Epoch 59/100\n",
      "31/31 [==============================] - 0s 3ms/step - loss: 46.0543\n",
      "Epoch 60/100\n",
      "31/31 [==============================] - 0s 3ms/step - loss: 45.8514\n",
      "Epoch 61/100\n",
      "31/31 [==============================] - 0s 3ms/step - loss: 46.3604\n",
      "Epoch 62/100\n",
      "31/31 [==============================] - 0s 4ms/step - loss: 45.6843\n",
      "Epoch 63/100\n",
      "31/31 [==============================] - 0s 3ms/step - loss: 45.5976\n",
      "Epoch 64/100\n",
      "31/31 [==============================] - 0s 3ms/step - loss: 45.3070\n",
      "Epoch 65/100\n",
      "31/31 [==============================] - 0s 3ms/step - loss: 45.2158\n",
      "Epoch 66/100\n",
      "31/31 [==============================] - 0s 3ms/step - loss: 45.6610\n",
      "Epoch 67/100\n",
      "31/31 [==============================] - 0s 4ms/step - loss: 45.0717\n",
      "Epoch 68/100\n",
      "31/31 [==============================] - 0s 4ms/step - loss: 44.8570\n",
      "Epoch 69/100\n",
      "31/31 [==============================] - 0s 3ms/step - loss: 45.1152\n",
      "Epoch 70/100\n",
      "31/31 [==============================] - 0s 3ms/step - loss: 44.6864\n",
      "Epoch 71/100\n",
      "31/31 [==============================] - 0s 3ms/step - loss: 45.0217\n",
      "Epoch 72/100\n",
      "31/31 [==============================] - 0s 3ms/step - loss: 44.5679\n",
      "Epoch 73/100\n",
      "31/31 [==============================] - 0s 3ms/step - loss: 44.6923\n",
      "Epoch 74/100\n",
      "31/31 [==============================] - 0s 3ms/step - loss: 44.1693\n",
      "Epoch 75/100\n",
      "31/31 [==============================] - 0s 3ms/step - loss: 44.4629\n",
      "Epoch 76/100\n",
      "31/31 [==============================] - 0s 5ms/step - loss: 44.6568\n",
      "Epoch 77/100\n",
      "31/31 [==============================] - 0s 3ms/step - loss: 44.3451\n",
      "Epoch 78/100\n",
      "31/31 [==============================] - 0s 3ms/step - loss: 44.9544\n",
      "Epoch 79/100\n",
      "31/31 [==============================] - 0s 4ms/step - loss: 44.6174\n",
      "Epoch 80/100\n",
      "31/31 [==============================] - 0s 3ms/step - loss: 44.9215\n",
      "Epoch 81/100\n",
      "31/31 [==============================] - 0s 3ms/step - loss: 44.5400\n",
      "Epoch 82/100\n",
      "31/31 [==============================] - 0s 3ms/step - loss: 43.7998\n",
      "Epoch 83/100\n",
      "31/31 [==============================] - 0s 3ms/step - loss: 44.0999\n",
      "Epoch 84/100\n",
      "31/31 [==============================] - 0s 3ms/step - loss: 44.2989\n",
      "Epoch 85/100\n",
      "31/31 [==============================] - 0s 3ms/step - loss: 44.0384\n",
      "Epoch 86/100\n",
      "31/31 [==============================] - 0s 3ms/step - loss: 45.1553\n",
      "Epoch 87/100\n",
      "31/31 [==============================] - 0s 3ms/step - loss: 44.8610\n",
      "Epoch 88/100\n",
      "31/31 [==============================] - 0s 3ms/step - loss: 43.6136\n",
      "Epoch 89/100\n",
      "31/31 [==============================] - 0s 3ms/step - loss: 43.9795\n",
      "Epoch 90/100\n",
      "31/31 [==============================] - 0s 3ms/step - loss: 43.9971\n",
      "Epoch 91/100\n",
      "31/31 [==============================] - 0s 3ms/step - loss: 43.7458\n",
      "Epoch 92/100\n",
      "31/31 [==============================] - 0s 4ms/step - loss: 43.5626\n",
      "Epoch 93/100\n",
      "31/31 [==============================] - 0s 5ms/step - loss: 43.3245\n",
      "Epoch 94/100\n",
      "31/31 [==============================] - 0s 3ms/step - loss: 43.2759\n",
      "Epoch 95/100\n",
      "31/31 [==============================] - 0s 3ms/step - loss: 43.7101\n",
      "Epoch 96/100\n",
      "31/31 [==============================] - 0s 3ms/step - loss: 43.2273\n",
      "Epoch 97/100\n",
      "31/31 [==============================] - 0s 3ms/step - loss: 43.3984\n",
      "Epoch 98/100\n",
      "31/31 [==============================] - 0s 3ms/step - loss: 43.4597\n",
      "Epoch 99/100\n",
      "31/31 [==============================] - 0s 3ms/step - loss: 43.3361\n",
      "Epoch 100/100\n",
      "31/31 [==============================] - 0s 3ms/step - loss: 43.5610\n",
      "Layer weights [array([[-0.03693939],\n",
      "       [-0.03980721],\n",
      "       [ 0.03065702],\n",
      "       [ 0.04398835],\n",
      "       [ 0.0183766 ],\n",
      "       [ 0.01786946],\n",
      "       [-0.02453615],\n",
      "       [-0.01446434],\n",
      "       [-0.0034517 ],\n",
      "       [ 0.03286792],\n",
      "       [ 0.01514622],\n",
      "       [-0.02486457],\n",
      "       [-0.06325337],\n",
      "       [ 0.00859955],\n",
      "       [ 0.05200991],\n",
      "       [ 0.09588934],\n",
      "       [ 0.03849031],\n",
      "       [ 0.19116223],\n",
      "       [ 0.25918308],\n",
      "       [ 0.4141046 ]], dtype=float32), array([0.01530332], dtype=float32)]\n"
     ]
    }
   ],
   "source": [
    "dataset = windowed_dataset(x_train, window_size, batch_size, shuffle_buffer_size)\n",
    "print(dataset)\n",
    "l0 = tf.keras.layers.Dense(1, input_shape=[window_size])\n",
    "model = tf.keras.models.Sequential([l0])\n",
    "\n",
    "\n",
    "model.compile(loss=\"mse\", optimizer=tf.keras.optimizers.SGD(learning_rate=1e-6, momentum=0.9))\n",
    "model.fit(dataset,epochs=100)\n",
    "\n",
    "print(\"Layer weights {}\".format(l0.get_weights()))\n"
   ]
  },
  {
   "cell_type": "code",
   "execution_count": 21,
   "metadata": {
    "id": "-gtVJuLVxR-M"
   },
   "outputs": [],
   "source": [
    "forecast = []\n",
    "\n",
    "for time in range(len(series) - window_size):\n",
    "  forecast.append(model.predict(series[time:time + window_size][np.newaxis])[0][0])\n",
    "\n",
    "forecast = forecast[split_time-window_size:]"
   ]
  },
  {
   "cell_type": "code",
   "execution_count": 22,
   "metadata": {},
   "outputs": [
    {
     "data": {
      "image/png": "[encoded data removed]",
      "text/plain": [
       "<Figure size 720x432 with 1 Axes>"
      ]
     },
     "metadata": {
      "needs_background": "light"
     },
     "output_type": "display_data"
    }
   ],
   "source": [
    "plt.figure(figsize=(10, 6))\n",
    "\n",
    "plot_series(time_valid, x_valid)\n",
    "plot_series(time_valid, results)"
   ]
  },
  {
   "cell_type": "code",
   "execution_count": 23,
   "metadata": {
    "id": "hR2BO0Dai_ZT"
   },
   "outputs": [
    {
     "data": {
      "text/plain": [
       "5.0342855"
      ]
     },
     "execution_count": 23,
     "metadata": {},
     "output_type": "execute_result"
    }
   ],
   "source": [
    "tf.keras.metrics.mean_absolute_error(x_valid, results).numpy()"
   ]
  }
 ],
 "metadata": {
  "accelerator": "GPU",
  "colab": {
   "collapsed_sections": [],
   "include_colab_link": true,
   "name": "C4_W2_Lab_2_single_layer_NN.ipynb",
   "provenance": [],
   "toc_visible": true
  },
  "kernelspec": {
   "display_name": "Python 3 (ipykernel)",
   "language": "python",
   "name": "python3"
  },
  "language_info": {
   "codemirror_mode": {
    "name": "ipython",
    "version": 3
   },
   "file_extension": ".py",
   "mimetype": "text/x-python",
   "name": "python",
   "nbconvert_exporter": "python",
   "pygments_lexer": "ipython3",
   "version": "3.8.12"
  }
 },
 "nbformat": 4,
 "nbformat_minor": 1
}
