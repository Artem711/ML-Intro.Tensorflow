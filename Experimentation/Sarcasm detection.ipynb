{
 "cells": [
  {
   "cell_type": "markdown",
   "id": "7ffe51f5",
   "metadata": {},
   "source": [
    "Download data from here:\n",
    "https://www.kaggle.com/rmisra/news-headlines-dataset-for-sarcasm-detection"
   ]
  },
  {
   "cell_type": "code",
   "execution_count": 3,
   "id": "26fa12e1",
   "metadata": {},
   "outputs": [],
   "source": [
    "import zipfile\n",
    "import json"
   ]
  },
  {
   "cell_type": "code",
   "execution_count": 2,
   "id": "5ea046af",
   "metadata": {},
   "outputs": [],
   "source": [
    "zip_ref = zipfile.ZipFile(\"./archive.zip\")\n",
    "zip_ref.extractall('data')\n",
    "zip_ref.close()"
   ]
  },
  {
   "cell_type": "code",
   "execution_count": 17,
   "id": "6fcea262",
   "metadata": {},
   "outputs": [],
   "source": [
    "result_file = open('data.json', 'wt')\n",
    "data = []\n",
    "with open('./data/Sarcasm_Headlines_Dataset.json') as file:\n",
    "    for line in file:\n",
    "        data.append(json.loads(line))\n",
    "result_file.write(json.dumps(data))\n",
    "result_file.close()"
   ]
  },
  {
   "cell_type": "code",
   "execution_count": 31,
   "id": "8c03f110",
   "metadata": {},
   "outputs": [],
   "source": [
    "x = []\n",
    "y = []\n",
    "with open('./data.json') as file:\n",
    "    res = json.load(file)\n",
    "    for i in res:\n",
    "        x.append(i['headline'])\n",
    "        y.append(i['is_sarcastic'])"
   ]
  },
  {
   "cell_type": "code",
   "execution_count": 42,
   "id": "642b0db9",
   "metadata": {},
   "outputs": [
    {
     "name": "stdout",
     "output_type": "stream",
     "text": [
      "(26709, 40)\n",
      "There are  26709  sentences in total\n",
      "Lenght of longest sentence is  40\n",
      "There are  29657  unique words\n"
     ]
    }
   ],
   "source": [
    "from tensorflow.keras.preprocessing.text import Tokenizer\n",
    "from tensorflow.keras.preprocessing.sequence import pad_sequences\n",
    "\n",
    "tk = Tokenizer(num_words=99999999, oov_token=\"<OOV>\") # Define Tokenizer (specify oov_token and num_words)\n",
    "tk.fit_on_texts(x) # Generate word_index given the corpus\n",
    "sequences = tk.texts_to_sequences(x) # Generate sequences for sentences based on previously generated word_index\n",
    "padded_sequences = pad_sequences(sequences, padding=\"post\") # Add padding to each sentence to make them all the same length\n",
    "\n",
    "print(padded_sequences.shape)\n",
    "print(\"There are \", padded_sequences.shape[0], \" sentences in total\")\n",
    "print(\"Lenght of longest sentence is \", padded_sequences.shape[1])\n",
    "print(\"There are \", len(tk.word_index), \" unique words\")"
   ]
  }
 ],
 "metadata": {
  "kernelspec": {
   "display_name": "Python 3 (ipykernel)",
   "language": "python",
   "name": "python3"
  },
  "language_info": {
   "codemirror_mode": {
    "name": "ipython",
    "version": 3
   },
   "file_extension": ".py",
   "mimetype": "text/x-python",
   "name": "python",
   "nbconvert_exporter": "python",
   "pygments_lexer": "ipython3",
   "version": "3.8.12"
  }
 },
 "nbformat": 4,
 "nbformat_minor": 5
}
