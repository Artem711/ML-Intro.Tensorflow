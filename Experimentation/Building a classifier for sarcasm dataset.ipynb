{
 "cells": [
  {
   "cell_type": "code",
   "execution_count": 1,
   "id": "dbf8ae2f",
   "metadata": {},
   "outputs": [],
   "source": [
    "import json"
   ]
  },
  {
   "cell_type": "code",
   "execution_count": 7,
   "id": "46ff496f",
   "metadata": {},
   "outputs": [],
   "source": [
    "new_file = open(\"./data.json\", 'wt')\n",
    "data = []\n",
    "with open('./Sarcasm_Headlines_Dataset.json', 'r') as file:\n",
    "    for line in file:\n",
    "        data.append(json.loads(line))\n",
    "new_file.write(json.dumps(data))   \n",
    "new_file.close()"
   ]
  },
  {
   "cell_type": "code",
   "execution_count": 15,
   "id": "0cfec15c",
   "metadata": {},
   "outputs": [],
   "source": [
    "def remove_stop_words(string):\n",
    "    stopwords = [\"a\", \"about\", \"above\", \"after\", \"again\", \"against\", \"all\", \"am\", \"an\", \"and\", \"any\", \"are\", \"as\", \"at\", \"be\", \"because\", \"been\", \"before\", \"being\", \"below\", \"between\", \"both\", \"but\", \"by\", \"could\", \"did\", \"do\", \"does\", \"doing\", \"down\", \"during\", \"each\", \"few\", \"for\", \"from\", \"further\", \"had\", \"has\", \"have\", \"having\", \"he\", \"he'd\", \"he'll\", \"he's\", \"her\", \"here\", \"here's\", \"hers\", \"herself\", \"him\", \"himself\", \"his\", \"how\", \"how's\", \"i\", \"i'd\", \"i'll\", \"i'm\", \"i've\", \"if\", \"in\", \"into\", \"is\", \"it\", \"it's\", \"its\", \"itself\", \"let's\", \"me\", \"more\", \"most\", \"my\", \"myself\", \"nor\", \"of\", \"on\", \"once\", \"only\", \"or\", \"other\", \"ought\", \"our\", \"ours\", \"ourselves\", \"out\", \"over\", \"own\", \"same\", \"she\", \"she'd\", \"she'll\", \"she's\", \"should\", \"so\", \"some\", \"such\", \"than\", \"that\", \"that's\", \"the\", \"their\", \"theirs\", \"them\", \"themselves\", \"then\", \"there\", \"there's\", \"these\", \"they\", \"they'd\", \"they'll\", \"they're\", \"they've\", \"this\", \"those\", \"through\", \"to\", \"too\", \"under\", \"until\", \"up\", \"very\", \"was\", \"we\", \"we'd\", \"we'll\", \"we're\", \"we've\", \"were\", \"what\", \"what's\", \"when\", \"when's\", \"where\", \"where's\", \"which\", \"while\", \"who\", \"who's\", \"whom\", \"why\", \"why's\", \"with\", \"would\", \"you\", \"you'd\", \"you'll\", \"you're\", \"you've\", \"your\", \"yours\", \"yourself\", \"yourselves\" ]\n",
    "    query = string.lower().split(' ')\n",
    "    res = [x for x in query if x not in stopwords]\n",
    "    return ' '.join(res)\n",
    "\n",
    "sentences = []\n",
    "labels = []\n",
    "\n",
    "with open('./data.json', 'r') as file:\n",
    "    f = json.load(file)\n",
    "    for item in f:\n",
    "        sentences.append(remove_stop_words(item['headline']))\n",
    "        labels.append(item['is_sarcastic'])"
   ]
  },
  {
   "cell_type": "code",
   "execution_count": 29,
   "id": "a7c3e9e3",
   "metadata": {},
   "outputs": [],
   "source": [
    "import numpy as np\n",
    "def split_train_test(sentences, labels, split_size):\n",
    "    train_length = int(len(sentences) * split_size)\n",
    "    test_length = len(sentences) - train_length\n",
    "    \n",
    "    train_sentences = sentences[0:train_length]\n",
    "    test_sentences = sentences[-test_length:]\n",
    "    \n",
    "    train_labels = labels[0:train_length]\n",
    "    test_labels = labels[-test_length:]\n",
    "    \n",
    "    return (train_sentences, np.array(train_labels)), (test_sentences, np.array(test_labels))\n",
    "\n",
    "(train_sentences, train_labels), (test_sentences, test_labels) = split_train_test(sentences, labels, 0.9)"
   ]
  },
  {
   "cell_type": "code",
   "execution_count": 36,
   "id": "221b25ff",
   "metadata": {},
   "outputs": [],
   "source": [
    "from tensorflow.keras.preprocessing.text import Tokenizer\n",
    "from tensorflow.keras.preprocessing.sequence import pad_sequences\n",
    "\n",
    "vocabulary_size = 10000\n",
    "embedding_dim = 16\n",
    "max_length = 32\n",
    "padding_type = \"post\"\n",
    "truncating_type = \"post\"\n",
    "oov_token = \"<OOV>\"\n",
    "\n",
    "tk = Tokenizer(num_words=vocabulary_size, oov_token=oov_token)\n",
    "tk.fit_on_texts(train_sentences) # creating tk.word_index\n",
    "train_sequences = tk.texts_to_sequences(train_sentences)\n",
    "train_sequences_padded = pad_sequences(train_sequences, \n",
    "                                       maxlen=max_length, \n",
    "                                       padding=padding_type, \n",
    "                                       truncating=truncating_type)\n",
    "\n",
    "test_sequences = tk.texts_to_sequences(test_sentences)\n",
    "test_sequences_padded = pad_sequences(test_sequences,     \n",
    "                                      maxlen=max_length, \n",
    "                                      padding=padding_type, \n",
    "                                      truncating=truncating_type)"
   ]
  },
  {
   "cell_type": "code",
   "execution_count": 40,
   "id": "9b2fc4f9",
   "metadata": {},
   "outputs": [],
   "source": [
    "import tensorflow as tf\n",
    "from tensorflow.keras import layers, models\n",
    "\n",
    "model = models.Sequential([\n",
    "    layers.Embedding(vocabulary_size, embedding_dim, input_length=max_length),\n",
    "    layers.GlobalAveragePooling1D(), # instead of Flatten()\n",
    "    layers.Dense(units=24, activation=tf.nn.relu),\n",
    "    layers.Dense(units=1, activation=tf.nn.sigmoid),\n",
    "])"
   ]
  },
  {
   "cell_type": "code",
   "execution_count": 41,
   "id": "ba968efe",
   "metadata": {},
   "outputs": [],
   "source": [
    "from tensorflow.keras import optimizers, losses\n",
    "\n",
    "model.compile(\n",
    "    optimizer=optimizers.Adam(), \n",
    "    loss=losses.binary_crossentropy, \n",
    "    metrics=['accuracy'])"
   ]
  },
  {
   "cell_type": "code",
   "execution_count": 42,
   "id": "6d70809d",
   "metadata": {},
   "outputs": [
    {
     "name": "stdout",
     "output_type": "stream",
     "text": [
      "Epoch 1/10\n"
     ]
    },
    {
     "name": "stderr",
     "output_type": "stream",
     "text": [
      "2022-03-19 22:19:21.560986: I tensorflow/core/grappler/optimizers/custom_graph_optimizer_registry.cc:113] Plugin optimizer for device_type GPU is enabled.\n"
     ]
    },
    {
     "name": "stdout",
     "output_type": "stream",
     "text": [
      "805/805 [==============================] - ETA: 0s - loss: 0.5906 - accuracy: 0.6855"
     ]
    },
    {
     "name": "stderr",
     "output_type": "stream",
     "text": [
      "2022-03-19 22:19:29.864886: I tensorflow/core/grappler/optimizers/custom_graph_optimizer_registry.cc:113] Plugin optimizer for device_type GPU is enabled.\n"
     ]
    },
    {
     "name": "stdout",
     "output_type": "stream",
     "text": [
      "805/805 [==============================] - 9s 11ms/step - loss: 0.5906 - accuracy: 0.6855 - val_loss: 0.4439 - val_accuracy: 0.7844\n",
      "Epoch 2/10\n",
      "805/805 [==============================] - 8s 10ms/step - loss: 0.3645 - accuracy: 0.8416 - val_loss: 0.4091 - val_accuracy: 0.7998\n",
      "Epoch 3/10\n",
      "805/805 [==============================] - 8s 10ms/step - loss: 0.2917 - accuracy: 0.8785 - val_loss: 0.4111 - val_accuracy: 0.8148\n",
      "Epoch 4/10\n",
      "805/805 [==============================] - 8s 10ms/step - loss: 0.2529 - accuracy: 0.8967 - val_loss: 0.4349 - val_accuracy: 0.8131\n",
      "Epoch 5/10\n",
      "805/805 [==============================] - 8s 10ms/step - loss: 0.2277 - accuracy: 0.9079 - val_loss: 0.4604 - val_accuracy: 0.8092\n",
      "Epoch 6/10\n",
      "805/805 [==============================] - 8s 10ms/step - loss: 0.2090 - accuracy: 0.9161 - val_loss: 0.4976 - val_accuracy: 0.8061\n",
      "Epoch 7/10\n",
      "805/805 [==============================] - 8s 10ms/step - loss: 0.1928 - accuracy: 0.9229 - val_loss: 0.5251 - val_accuracy: 0.8029\n",
      "Epoch 8/10\n",
      "805/805 [==============================] - 8s 10ms/step - loss: 0.1822 - accuracy: 0.9263 - val_loss: 0.5691 - val_accuracy: 0.7928\n",
      "Epoch 9/10\n",
      "805/805 [==============================] - 8s 10ms/step - loss: 0.1712 - accuracy: 0.9320 - val_loss: 0.5911 - val_accuracy: 0.7949\n",
      "Epoch 10/10\n",
      "805/805 [==============================] - 8s 10ms/step - loss: 0.1625 - accuracy: 0.9354 - val_loss: 0.6189 - val_accuracy: 0.7959\n"
     ]
    }
   ],
   "source": [
    "num_epochs = 10\n",
    "history = model.fit(\n",
    "    x=train_sequences_padded, \n",
    "    y=train_labels, \n",
    "    epochs=num_epochs,\n",
    "    validation_data=(test_sequences_padded, test_labels))"
   ]
  },
  {
   "cell_type": "code",
   "execution_count": 45,
   "id": "a83a7c81",
   "metadata": {},
   "outputs": [
    {
     "data": {
      "image/png": "[encoded data removed]",
      "text/plain": [
       "<Figure size 432x288 with 1 Axes>"
      ]
     },
     "metadata": {
      "needs_background": "light"
     },
     "output_type": "display_data"
    },
    {
     "data": {
      "image/png": "[encoded data removed]",
      "text/plain": [
       "<Figure size 432x288 with 1 Axes>"
      ]
     },
     "metadata": {
      "needs_background": "light"
     },
     "output_type": "display_data"
    },
    {
     "data": {
      "text/plain": [
       "<Figure size 432x288 with 0 Axes>"
      ]
     },
     "metadata": {},
     "output_type": "display_data"
    }
   ],
   "source": [
    "import matplotlib.pyplot as plt\n",
    "\n",
    "acc = history.history['accuracy']\n",
    "val_acc = history.history['val_accuracy']\n",
    "loss = history.history['loss']\n",
    "val_loss = history.history['val_loss']\n",
    "\n",
    "epochs = range(len(acc))\n",
    "\n",
    "def graph(history, title):\n",
    "    line1, = plt.plot(epochs, history.history[title], 'r', label='Training')\n",
    "    line2, = plt.plot(epochs, history.history['val_' + title], 'b', label='Validation')\n",
    "    plt.legend(handles=[line1, line2])\n",
    "    \n",
    "    plt.ylabel(title)\n",
    "    plt.xlabel(\"Epochs\")\n",
    "    \n",
    "    plt.title(\"(Training and Validation) \" + title)\n",
    "    plt.figure()\n",
    "\n",
    "graph(history, 'accuracy')\n",
    "graph(history, 'loss')\n",
    "plt.show()"
   ]
  }
 ],
 "metadata": {
  "kernelspec": {
   "display_name": "Python 3 (ipykernel)",
   "language": "python",
   "name": "python3"
  },
  "language_info": {
   "codemirror_mode": {
    "name": "ipython",
    "version": 3
   },
   "file_extension": ".py",
   "mimetype": "text/x-python",
   "name": "python",
   "nbconvert_exporter": "python",
   "pygments_lexer": "ipython3",
   "version": "3.8.12"
  }
 },
 "nbformat": 4,
 "nbformat_minor": 5
}
