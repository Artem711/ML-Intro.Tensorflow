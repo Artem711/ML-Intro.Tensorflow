{
 "cells": [
  {
   "cell_type": "code",
   "execution_count": 9,
   "id": "6f85334e",
   "metadata": {},
   "outputs": [],
   "source": [
    "import tensorflow as tf\n",
    "from tensorflow import keras\n",
    "import zipfile\n",
    "import os\n",
    "import shutil\n",
    "import matplotlib.pyplot as plt"
   ]
  },
  {
   "cell_type": "markdown",
   "id": "43a2c6d7",
   "metadata": {},
   "source": [
    "1. Download data of \"Cats vs Dogs\" dataset from: (https://download.microsoft.com/download/3/E/1/3E1C3F21-ECDB-4869-8368-6DEBA77B919F/kagglecatsanddogs_3367a.zip)\n",
    "\n",
    "2. Place it in the same file as this notebook\n",
    "3. Run the notebook"
   ]
  },
  {
   "cell_type": "code",
   "execution_count": 10,
   "id": "f5577ebf",
   "metadata": {},
   "outputs": [],
   "source": [
    "pre_trained_model = keras.applications.inception_v3.InceptionV3(\n",
    "    input_shape=(150, 150, 3), \n",
    "    include_top=False, \n",
    "    weights=None)\n",
    "\n",
    "pre_trained_model.load_weights(\"./inception_v3_weights.h5\")"
   ]
  },
  {
   "cell_type": "code",
   "execution_count": 11,
   "id": "888f7d24",
   "metadata": {},
   "outputs": [],
   "source": [
    "for layer in pre_trained_model.layers:\n",
    "    layer.trainable = False"
   ]
  },
  {
   "cell_type": "code",
   "execution_count": 12,
   "id": "a59bdf97",
   "metadata": {},
   "outputs": [],
   "source": [
    "# pre_trained_model.summary()"
   ]
  },
  {
   "cell_type": "code",
   "execution_count": 13,
   "id": "e6aa7602",
   "metadata": {},
   "outputs": [
    {
     "name": "stdout",
     "output_type": "stream",
     "text": [
      "Last layer output shape:  (None, 7, 7, 768)\n"
     ]
    }
   ],
   "source": [
    "last_layer = pre_trained_model.get_layer('mixed7')\n",
    "last_output = last_layer.output\n",
    "\n",
    "print('Last layer output shape: ', last_layer.output_shape)"
   ]
  },
  {
   "cell_type": "code",
   "execution_count": 14,
   "id": "84627176",
   "metadata": {},
   "outputs": [],
   "source": [
    "from tensorflow.keras import optimizers, losses, Model\n",
    "\n",
    "# Flatten the output layer to 1 dimension\n",
    "x = keras.layers.Flatten()(last_output)\n",
    "# Add a fully connected layer with 1,024 hidden units and ReLU activation\n",
    "x = keras.layers.Dense(units=1024, activation=tf.nn.relu)(x)               \n",
    "# Add a final sigmoid layer for classification\n",
    "x = keras.layers.Dense(units=1, activation=tf.nn.sigmoid)(x)           \n",
    "\n",
    "# Append the dense network to the base model\n",
    "model = Model(pre_trained_model.input, x)\n",
    "\n",
    "# Compile the model\n",
    "model.compile(\n",
    "    optimizer=optimizers.Adam(),\n",
    "    loss=losses.binary_crossentropy,\n",
    "    metrics=['accuracy'])"
   ]
  },
  {
   "cell_type": "code",
   "execution_count": 15,
   "id": "dafc893d",
   "metadata": {},
   "outputs": [],
   "source": [
    "zip_ref = zipfile.ZipFile('./cats_vs_dogs.zip')\n",
    "zip_ref.extractall('data')\n",
    "zip_ref.close()\n",
    "\n",
    "base = './data'\n",
    "data_path = os.path.join(base,'PetImages')"
   ]
  },
  {
   "cell_type": "code",
   "execution_count": 16,
   "id": "025830b9",
   "metadata": {},
   "outputs": [],
   "source": [
    "def split_data(source, train, test, split_size):\n",
    "    files = []\n",
    "    for filename in os.listdir(source):\n",
    "        filepath = os.path.join(source, filename)\n",
    "        if os.path.getsize(filepath) > 0:\n",
    "            files.append(filename)\n",
    "        else:\n",
    "            print(\"File has zero length, so ignoring it: (\" + filename + \")\")\n",
    "    \n",
    "    train_length = int(len(files) * split_size)\n",
    "    test_length = len(files) - train_length\n",
    "    \n",
    "    train_filenames = files[0:train_length]\n",
    "    test_filenames = files[-test_length:]\n",
    "    \n",
    "    for filename in train_filenames:\n",
    "        src_path = os.path.join(source, filename)\n",
    "        dest_path = os.path.join(train, filename)\n",
    "        shutil.copyfile(src_path, dest_path)\n",
    "    \n",
    "    for filename in test_filenames:\n",
    "        src_path = os.path.join(source, filename)\n",
    "        dest_path = os.path.join(test, filename)\n",
    "        shutil.copyfile(src_path, dest_path)"
   ]
  },
  {
   "cell_type": "code",
   "execution_count": 17,
   "id": "3b52fe88",
   "metadata": {},
   "outputs": [],
   "source": [
    "def make_dirs(root_dir):\n",
    "    test_dir = os.path.join(root_dir, \"test\")\n",
    "    if not os.path.exists(test_dir):\n",
    "        os.makedirs(test_dir)\n",
    "        os.makedirs(os.path.join(test_dir, 'cats'))\n",
    "        os.makedirs(os.path.join(test_dir, 'dogs'))\n",
    "    \n",
    "    train_dir = os.path.join(root_dir, \"train\")\n",
    "    if not os.path.exists(train_dir):\n",
    "        os.makedirs(train_dir)\n",
    "        os.makedirs(os.path.join(train_dir, 'cats'))\n",
    "        os.makedirs(os.path.join(train_dir, 'dogs'))\n",
    "    \n",
    "make_dirs(base)"
   ]
  },
  {
   "cell_type": "code",
   "execution_count": 18,
   "id": "9f32ba07",
   "metadata": {},
   "outputs": [
    {
     "name": "stdout",
     "output_type": "stream",
     "text": [
      "File has zero length, so ignoring it: (666.jpg)\n",
      "File has zero length, so ignoring it: (11702.jpg)\n"
     ]
    }
   ],
   "source": [
    "train_dir = os.path.join(base, 'train')\n",
    "test_dir = os.path.join(base, 'test')\n",
    "if os.path.exists(train_dir) and os.path.exists(test_dir):\n",
    "    shutil.rmtree(train_dir)\n",
    "    shutil.rmtree(test_dir)\n",
    "    make_dirs(base)\n",
    "\n",
    "SPLIT_SIZE = 0.9\n",
    "split_data(os.path.join(data_path, 'Cat'), os.path.join(train_dir, 'cats'), os.path.join(test_dir, 'cats'), SPLIT_SIZE)\n",
    "split_data(os.path.join(data_path, 'Dog'), os.path.join(train_dir, 'dogs'), os.path.join(test_dir, 'dogs'), SPLIT_SIZE)"
   ]
  },
  {
   "cell_type": "code",
   "execution_count": 19,
   "id": "9d9b2426",
   "metadata": {},
   "outputs": [],
   "source": [
    "from tensorflow.keras.preprocessing import image\n",
    "\n",
    "train_gen = image.ImageDataGenerator(rescale=1/255.0,\n",
    "                                    rotation_range=40,\n",
    "                                    height_shift_range=0.2,\n",
    "                                    width_shift_range=0.2,\n",
    "                                    shear_range=0.2,\n",
    "                                    zoom_range=0.2,\n",
    "                                    horizontal_flip=True,\n",
    "                                    fill_mode=\"nearest\")\n",
    "\n",
    "validation_gen = image.ImageDataGenerator(rescale=1/255.0)"
   ]
  },
  {
   "cell_type": "code",
   "execution_count": 20,
   "id": "0a443cd9",
   "metadata": {},
   "outputs": [],
   "source": [
    "import math\n",
    "\n",
    "TRAIN_NUMBER_OF_IMAGES = 22498\n",
    "TRAIN_BATCH_SIZE = 20\n",
    "TRAIN_STEPS_PER_EPOCH = 100 # math.floor(TRAIN_NUMBER_OF_IMAGES / TRAIN_BATCH_SIZE)\n",
    "\n",
    "TEST_NUMBER_OF_IMAGES = 2500\n",
    "TEST_BATCH_SIZE = 20\n",
    "TEST_STEPS_PER_EPOCH = 50 # math.floor(TRAIN_NUMBER_OF_IMAGES / TRAIN_BATCH_SIZE)"
   ]
  },
  {
   "cell_type": "code",
   "execution_count": 21,
   "id": "1668ec54",
   "metadata": {},
   "outputs": [
    {
     "name": "stdout",
     "output_type": "stream",
     "text": [
      "Found 22498 images belonging to 2 classes.\n",
      "Found 2500 images belonging to 2 classes.\n"
     ]
    }
   ],
   "source": [
    "train_generator = train_gen.flow_from_directory(train_dir,\n",
    "                             target_size=(150,150),\n",
    "                             batch_size=TRAIN_BATCH_SIZE,\n",
    "                             class_mode='binary')\n",
    "\n",
    "validation_generator = validation_gen.flow_from_directory(test_dir,\n",
    "                             target_size=(150,150),\n",
    "                             batch_size=TEST_BATCH_SIZE,\n",
    "                             class_mode='binary')"
   ]
  },
  {
   "cell_type": "code",
   "execution_count": 22,
   "id": "d8bb2bd2",
   "metadata": {},
   "outputs": [
    {
     "name": "stdout",
     "output_type": "stream",
     "text": [
      "Epoch 1/20\n"
     ]
    },
    {
     "name": "stderr",
     "output_type": "stream",
     "text": [
      "2022-03-18 15:23:19.378709: W tensorflow/core/platform/profile_utils/cpu_utils.cc:128] Failed to get CPU frequency: 0 Hz\n",
      "2022-03-18 15:23:20.920857: I tensorflow/core/grappler/optimizers/custom_graph_optimizer_registry.cc:113] Plugin optimizer for device_type GPU is enabled.\n"
     ]
    },
    {
     "name": "stdout",
     "output_type": "stream",
     "text": [
      "100/100 [==============================] - ETA: 0s - loss: 0.5636 - accuracy: 0.8590"
     ]
    },
    {
     "name": "stderr",
     "output_type": "stream",
     "text": [
      "2022-03-18 15:23:33.446949: I tensorflow/core/grappler/optimizers/custom_graph_optimizer_registry.cc:113] Plugin optimizer for device_type GPU is enabled.\n"
     ]
    },
    {
     "name": "stdout",
     "output_type": "stream",
     "text": [
      "100/100 [==============================] - 16s 112ms/step - loss: 0.5636 - accuracy: 0.8590 - val_loss: 0.1147 - val_accuracy: 0.9500\n",
      "Epoch 2/20\n",
      "100/100 [==============================] - 11s 107ms/step - loss: 0.2413 - accuracy: 0.9020 - val_loss: 0.0916 - val_accuracy: 0.9650\n",
      "Epoch 3/20\n",
      "100/100 [==============================] - 11s 107ms/step - loss: 0.1887 - accuracy: 0.9250 - val_loss: 0.0979 - val_accuracy: 0.9570\n",
      "Epoch 4/20\n",
      "100/100 [==============================] - 11s 106ms/step - loss: 0.1730 - accuracy: 0.9300 - val_loss: 0.1035 - val_accuracy: 0.9630\n",
      "Epoch 5/20\n",
      "100/100 [==============================] - 11s 107ms/step - loss: 0.1864 - accuracy: 0.9220 - val_loss: 0.0710 - val_accuracy: 0.9690\n",
      "Epoch 6/20\n",
      "100/100 [==============================] - 9s 92ms/step - loss: 0.1592 - accuracy: 0.9335 - val_loss: 0.0725 - val_accuracy: 0.9700\n",
      "Epoch 7/20\n",
      "100/100 [==============================] - 10s 97ms/step - loss: 0.1371 - accuracy: 0.9419 - val_loss: 0.0829 - val_accuracy: 0.9710\n",
      "Epoch 8/20\n",
      " 41/100 [===========>..................] - ETA: 4s - loss: 0.1429 - accuracy: 0.9451"
     ]
    },
    {
     "name": "stderr",
     "output_type": "stream",
     "text": [
      "/Users/artem/miniforge3/envs/mlp/lib/python3.8/site-packages/PIL/TiffImagePlugin.py:822: UserWarning: Truncated File Read\n",
      "  warnings.warn(str(msg))\n"
     ]
    },
    {
     "name": "stdout",
     "output_type": "stream",
     "text": [
      "100/100 [==============================] - 9s 90ms/step - loss: 0.1415 - accuracy: 0.9420 - val_loss: 0.0903 - val_accuracy: 0.9680\n",
      "Epoch 9/20\n",
      "100/100 [==============================] - 9s 91ms/step - loss: 0.1584 - accuracy: 0.9370 - val_loss: 0.0834 - val_accuracy: 0.9610\n",
      "Epoch 10/20\n",
      "100/100 [==============================] - 10s 96ms/step - loss: 0.1721 - accuracy: 0.9315 - val_loss: 0.0925 - val_accuracy: 0.9700\n",
      "Epoch 11/20\n",
      "100/100 [==============================] - 9s 92ms/step - loss: 0.1673 - accuracy: 0.9255 - val_loss: 0.0811 - val_accuracy: 0.9680\n",
      "Epoch 12/20\n",
      "100/100 [==============================] - 9s 90ms/step - loss: 0.1389 - accuracy: 0.9410 - val_loss: 0.0941 - val_accuracy: 0.9670\n",
      "Epoch 13/20\n",
      "100/100 [==============================] - 10s 97ms/step - loss: 0.1381 - accuracy: 0.9360 - val_loss: 0.0677 - val_accuracy: 0.9760\n",
      "Epoch 14/20\n",
      "100/100 [==============================] - 10s 95ms/step - loss: 0.1430 - accuracy: 0.9390 - val_loss: 0.0571 - val_accuracy: 0.9790\n",
      "Epoch 15/20\n",
      "100/100 [==============================] - 9s 94ms/step - loss: 0.1542 - accuracy: 0.9349 - val_loss: 0.0821 - val_accuracy: 0.9690\n",
      "Epoch 16/20\n",
      "100/100 [==============================] - 10s 96ms/step - loss: 0.1405 - accuracy: 0.9420 - val_loss: 0.0824 - val_accuracy: 0.9740\n",
      "Epoch 17/20\n",
      "100/100 [==============================] - 9s 94ms/step - loss: 0.1250 - accuracy: 0.9490 - val_loss: 0.0920 - val_accuracy: 0.9680\n",
      "Epoch 18/20\n",
      "100/100 [==============================] - 10s 96ms/step - loss: 0.1509 - accuracy: 0.9360 - val_loss: 0.0667 - val_accuracy: 0.9700\n",
      "Epoch 19/20\n",
      "100/100 [==============================] - 9s 92ms/step - loss: 0.1584 - accuracy: 0.9330 - val_loss: 0.0830 - val_accuracy: 0.9620\n",
      "Epoch 20/20\n",
      "100/100 [==============================] - 9s 93ms/step - loss: 0.1459 - accuracy: 0.9385 - val_loss: 0.0753 - val_accuracy: 0.9710\n"
     ]
    }
   ],
   "source": [
    "history = model.fit(\n",
    "    train_generator,\n",
    "    steps_per_epoch=TRAIN_STEPS_PER_EPOCH,\n",
    "    epochs=20,\n",
    "    validation_data=validation_generator,\n",
    "    validation_steps=TEST_STEPS_PER_EPOCH)"
   ]
  },
  {
   "cell_type": "code",
   "execution_count": 24,
   "id": "9352bd46",
   "metadata": {},
   "outputs": [
    {
     "data": {
      "image/png": "[encoded data removed]",
      "text/plain": [
       "<Figure size 432x288 with 1 Axes>"
      ]
     },
     "metadata": {
      "needs_background": "light"
     },
     "output_type": "display_data"
    },
    {
     "data": {
      "image/png": "[encoded data removed]",
      "text/plain": [
       "<Figure size 432x288 with 1 Axes>"
      ]
     },
     "metadata": {
      "needs_background": "light"
     },
     "output_type": "display_data"
    },
    {
     "data": {
      "text/plain": [
       "<Figure size 432x288 with 0 Axes>"
      ]
     },
     "metadata": {},
     "output_type": "display_data"
    }
   ],
   "source": [
    "acc = history.history['accuracy']\n",
    "val_acc = history.history['val_accuracy']\n",
    "loss = history.history['loss']\n",
    "val_loss = history.history['val_loss']\n",
    "\n",
    "epochs = range(len(acc))\n",
    "\n",
    "line1, = plt.plot(epochs, acc, label=\"Training\")\n",
    "line2, = plt.plot(epochs, val_acc, label=\"Validation\")\n",
    "plt.legend(handles=[line1, line2])\n",
    "plt.title(\"(Training and Validation) Accuracy\")\n",
    "plt.figure()\n",
    "\n",
    "line1, = plt.plot(epochs, loss, label=\"Training\")\n",
    "line2, = plt.plot(epochs, val_loss, label=\"Validation\")\n",
    "plt.legend(handles=[line1, line2])\n",
    "plt.title(\"(Training and Validation) Loss\")\n",
    "plt.figure()\n",
    "\n",
    "plt.show()"
   ]
  },
  {
   "cell_type": "code",
   "execution_count": null,
   "id": "261d5383",
   "metadata": {},
   "outputs": [],
   "source": []
  }
 ],
 "metadata": {
  "kernelspec": {
   "display_name": "Python 3 (ipykernel)",
   "language": "python",
   "name": "python3"
  },
  "language_info": {
   "codemirror_mode": {
    "name": "ipython",
    "version": 3
   },
   "file_extension": ".py",
   "mimetype": "text/x-python",
   "name": "python",
   "nbconvert_exporter": "python",
   "pygments_lexer": "ipython3",
   "version": "3.8.12"
  }
 },
 "nbformat": 4,
 "nbformat_minor": 5
}
