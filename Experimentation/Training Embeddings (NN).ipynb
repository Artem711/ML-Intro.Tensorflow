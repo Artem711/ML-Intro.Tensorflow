{
 "cells": [
  {
   "cell_type": "code",
   "execution_count": 57,
   "id": "11bbe20a",
   "metadata": {},
   "outputs": [],
   "source": [
    "import tensorflow_datasets as tfds\n",
    "\n",
    "imdb, info = tfds.load(\"imdb_reviews\", with_info=True, as_supervised=True)"
   ]
  },
  {
   "cell_type": "code",
   "execution_count": 59,
   "id": "d6e9f24a",
   "metadata": {},
   "outputs": [],
   "source": [
    "train_data, test_data = imdb[\"train\"], imdb[\"test\"]"
   ]
  },
  {
   "cell_type": "code",
   "execution_count": 78,
   "id": "293de4be",
   "metadata": {},
   "outputs": [],
   "source": [
    "def remove_stop_words(string):\n",
    "    stopwords = [\"a\", \"about\", \"above\", \"after\", \"again\", \"against\", \"all\", \"am\", \"an\", \"and\", \"any\", \"are\", \"as\", \"at\", \"be\", \"because\", \"been\", \"before\", \"being\", \"below\", \"between\", \"both\", \"but\", \"by\", \"could\", \"did\", \"do\", \"does\", \"doing\", \"down\", \"during\", \"each\", \"few\", \"for\", \"from\", \"further\", \"had\", \"has\", \"have\", \"having\", \"he\", \"he'd\", \"he'll\", \"he's\", \"her\", \"here\", \"here's\", \"hers\", \"herself\", \"him\", \"himself\", \"his\", \"how\", \"how's\", \"i\", \"i'd\", \"i'll\", \"i'm\", \"i've\", \"if\", \"in\", \"into\", \"is\", \"it\", \"it's\", \"its\", \"itself\", \"let's\", \"me\", \"more\", \"most\", \"my\", \"myself\", \"nor\", \"of\", \"on\", \"once\", \"only\", \"or\", \"other\", \"ought\", \"our\", \"ours\", \"ourselves\", \"out\", \"over\", \"own\", \"same\", \"she\", \"she'd\", \"she'll\", \"she's\", \"should\", \"so\", \"some\", \"such\", \"than\", \"that\", \"that's\", \"the\", \"their\", \"theirs\", \"them\", \"themselves\", \"then\", \"there\", \"there's\", \"these\", \"they\", \"they'd\", \"they'll\", \"they're\", \"they've\", \"this\", \"those\", \"through\", \"to\", \"too\", \"under\", \"until\", \"up\", \"very\", \"was\", \"we\", \"we'd\", \"we'll\", \"we're\", \"we've\", \"were\", \"what\", \"what's\", \"when\", \"when's\", \"where\", \"where's\", \"which\", \"while\", \"who\", \"who's\", \"whom\", \"why\", \"why's\", \"with\", \"would\", \"you\", \"you'd\", \"you'll\", \"you're\", \"you've\", \"your\", \"yours\", \"yourself\", \"yourselves\" ]\n",
    "    query = string.lower().split(' ')\n",
    "    res = [x for x in query if x not in stopwords]\n",
    "    return ' '.join(res)"
   ]
  },
  {
   "cell_type": "code",
   "execution_count": 77,
   "id": "7fd7d405",
   "metadata": {},
   "outputs": [],
   "source": [
    "train_sentences = []\n",
    "train_labels = []\n",
    "\n",
    "test_sentences = []\n",
    "test_labels = []\n",
    "\n",
    "def distr(data, sentences, labels):\n",
    "    for sentence, label in data:\n",
    "        s = remove_stop_words(str(sentence.numpy())[2:-1])\n",
    "        l = label.numpy()\n",
    "        sentences.append(s)\n",
    "        labels.append(l)\n",
    "        \n",
    "    \n",
    "distr(train_data, train_sentences, train_labels)\n",
    "distr(test_data, test_sentences, test_labels)"
   ]
  },
  {
   "cell_type": "code",
   "execution_count": 86,
   "id": "47e9ac2c",
   "metadata": {},
   "outputs": [
    {
     "data": {
      "text/plain": [
       "str"
      ]
     },
     "execution_count": 86,
     "metadata": {},
     "output_type": "execute_result"
    }
   ],
   "source": [
    "import numpy as np\n",
    "\n",
    "train_labels = np.array(train_labels)\n",
    "test_labels = np.array(test_labels)"
   ]
  },
  {
   "cell_type": "code",
   "execution_count": 79,
   "id": "b981a790",
   "metadata": {},
   "outputs": [],
   "source": [
    "from tensorflow.keras.preprocessing.text import Tokenizer\n",
    "from tensorflow.keras.preprocessing.sequence import pad_sequences\n",
    "\n",
    "vocabulary_size = 10000\n",
    "oov_token=\"<OOV>\"\n",
    "max_length = 120\n",
    "truncating_type = \"post\"\n",
    "embedding_dim = 16\n",
    "\n",
    "tk = Tokenizer(num_words=vocabulary_size, oov_token=oov_token)\n",
    "tk.fit_on_texts(train_sentences)\n",
    "sequences = tk.texts_to_sequences(train_sentences)\n",
    "sequences_padded = pad_sequences(sequences, maxlen=max_length, truncating=truncating_type)\n",
    "\n",
    "sequences_test = tk.texts_to_sequences(test_sentences)\n",
    "sequences_test_padded = pad_sequences(sequences_test, maxlen=max_length)"
   ]
  },
  {
   "cell_type": "code",
   "execution_count": 80,
   "id": "a0ffbe5a",
   "metadata": {},
   "outputs": [],
   "source": [
    "import tensorflow as tf\n",
    "from tensorflow import keras\n",
    "\n",
    "model = keras.models.Sequential([\n",
    "    keras.layers.Embedding(vocabulary_size, embedding_dim, input_length=max_length),\n",
    "    keras.layers.GlobalAveragePooling1D(),\n",
    "    keras.layers.Dense(6, activation=tf.nn.relu),\n",
    "    keras.layers.Dense(1, activation=tf.nn.sigmoid),\n",
    "])"
   ]
  },
  {
   "cell_type": "code",
   "execution_count": 81,
   "id": "84d95b85",
   "metadata": {},
   "outputs": [],
   "source": [
    "from tensorflow.keras import optimizers, losses\n",
    "\n",
    "model.compile(\n",
    "    optimizer=optimizers.Adam(),\n",
    "    loss=losses.binary_crossentropy,\n",
    "    metrics=['accuracy'])"
   ]
  },
  {
   "cell_type": "code",
   "execution_count": 89,
   "id": "e1084fa9",
   "metadata": {},
   "outputs": [
    {
     "name": "stdout",
     "output_type": "stream",
     "text": [
      "Epoch 1/10\n",
      "780/782 [============================>.] - ETA: 0s - loss: 0.2841 - accuracy: 0.8921"
     ]
    },
    {
     "name": "stderr",
     "output_type": "stream",
     "text": [
      "2022-03-19 20:58:04.995032: I tensorflow/core/grappler/optimizers/custom_graph_optimizer_registry.cc:113] Plugin optimizer for device_type GPU is enabled.\n"
     ]
    },
    {
     "name": "stdout",
     "output_type": "stream",
     "text": [
      "782/782 [==============================] - 10s 13ms/step - loss: 0.2842 - accuracy: 0.8921 - val_loss: 0.2985 - val_accuracy: 0.8754\n",
      "Epoch 2/10\n",
      "782/782 [==============================] - 11s 14ms/step - loss: 0.2199 - accuracy: 0.9191 - val_loss: 0.3019 - val_accuracy: 0.8745\n",
      "Epoch 3/10\n",
      "782/782 [==============================] - 10s 13ms/step - loss: 0.1855 - accuracy: 0.9345 - val_loss: 0.3205 - val_accuracy: 0.8695\n",
      "Epoch 4/10\n",
      "782/782 [==============================] - 10s 13ms/step - loss: 0.1602 - accuracy: 0.9450 - val_loss: 0.3455 - val_accuracy: 0.8631\n",
      "Epoch 5/10\n",
      "782/782 [==============================] - 11s 14ms/step - loss: 0.1395 - accuracy: 0.9540 - val_loss: 0.3766 - val_accuracy: 0.8592\n",
      "Epoch 6/10\n",
      "782/782 [==============================] - 11s 14ms/step - loss: 0.1224 - accuracy: 0.9619 - val_loss: 0.4142 - val_accuracy: 0.8546\n",
      "Epoch 7/10\n",
      "782/782 [==============================] - 11s 14ms/step - loss: 0.1071 - accuracy: 0.9680 - val_loss: 0.4507 - val_accuracy: 0.8499\n",
      "Epoch 8/10\n",
      "782/782 [==============================] - 11s 14ms/step - loss: 0.0942 - accuracy: 0.9739 - val_loss: 0.4894 - val_accuracy: 0.8473\n",
      "Epoch 9/10\n",
      "782/782 [==============================] - 11s 14ms/step - loss: 0.0829 - accuracy: 0.9777 - val_loss: 0.5302 - val_accuracy: 0.8443\n",
      "Epoch 10/10\n",
      "782/782 [==============================] - 11s 14ms/step - loss: 0.0725 - accuracy: 0.9816 - val_loss: 0.5749 - val_accuracy: 0.8399\n"
     ]
    }
   ],
   "source": [
    "num_epochs = 10\n",
    "\n",
    "history = model.fit(\n",
    "    x=sequences_padded, \n",
    "    y=train_labels, \n",
    "    epochs=num_epochs, \n",
    "    validation_data=(sequences_test_padded, test_labels))"
   ]
  },
  {
   "cell_type": "code",
   "execution_count": 91,
   "id": "ac7e349a",
   "metadata": {},
   "outputs": [
    {
     "data": {
      "image/png": "[encoded data removed]",
      "text/plain": [
       "<Figure size 432x288 with 1 Axes>"
      ]
     },
     "metadata": {
      "needs_background": "light"
     },
     "output_type": "display_data"
    },
    {
     "data": {
      "image/png": "[encoded data removed]",
      "text/plain": [
       "<Figure size 432x288 with 1 Axes>"
      ]
     },
     "metadata": {
      "needs_background": "light"
     },
     "output_type": "display_data"
    },
    {
     "data": {
      "text/plain": [
       "<Figure size 432x288 with 0 Axes>"
      ]
     },
     "metadata": {},
     "output_type": "display_data"
    }
   ],
   "source": [
    "import matplotlib.pyplot as plt\n",
    "\n",
    "acc = history.history['accuracy']\n",
    "val_acc = history.history['val_accuracy']\n",
    "loss = history.history['loss']\n",
    "val_loss = history.history['val_loss']\n",
    "\n",
    "epochs = range(len(acc))\n",
    "\n",
    "line1, = plt.plot(epochs, acc, \"r\", label=\"Training\")\n",
    "line2, = plt.plot(epochs, val_acc, \"b\", label=\"Validation\")\n",
    "plt.legend(handles=[line1, line2])\n",
    "plt.title(\"(Training and Validation) accuracy\")\n",
    "plt.figure()\n",
    "\n",
    "line1, = plt.plot(epochs, loss, \"r\", label=\"Training\")\n",
    "line2, = plt.plot(epochs, val_loss, \"b\", label=\"Validation\")\n",
    "plt.legend(handles=[line1, line2])\n",
    "plt.title(\"(Training and Validation) loss\")\n",
    "plt.figure()\n",
    "\n",
    "plt.show()"
   ]
  }
 ],
 "metadata": {
  "kernelspec": {
   "display_name": "Python 3 (ipykernel)",
   "language": "python",
   "name": "python3"
  },
  "language_info": {
   "codemirror_mode": {
    "name": "ipython",
    "version": 3
   },
   "file_extension": ".py",
   "mimetype": "text/x-python",
   "name": "python",
   "nbconvert_exporter": "python",
   "pygments_lexer": "ipython3",
   "version": "3.8.12"
  }
 },
 "nbformat": 4,
 "nbformat_minor": 5
}
