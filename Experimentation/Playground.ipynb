{
 "cells": [
  {
   "cell_type": "code",
   "execution_count": 4,
   "id": "301752e0",
   "metadata": {},
   "outputs": [
    {
     "name": "stdout",
     "output_type": "stream",
     "text": [
      "{'love': 1, 'i': 2, 'dogs': 3, 'you': 4, 'cats': 5, 'do': 6, 'think': 7, 'my': 8, 'dog': 9, 'is': 10, 'amazing': 11}\n",
      "[[2, 1, 3], [2, 1, 5], [4, 1, 3], [6, 4, 7, 8, 9, 10, 11]]\n"
     ]
    }
   ],
   "source": [
    "from keras.preprocessing.text import Tokenizer\n",
    "sentences=[\n",
    "\"I love dogs\", \n",
    "\"i love cats\", \n",
    "\"you love dogs\",\n",
    "\"Do you think my dog is amazing?\"]\n",
    "\n",
    "tk = Tokenizer(num_words=100)\n",
    "\n",
    "tk.fit_on_texts(sentences)\n",
    "word_index = tk.word_index\n",
    "print(word_index)\n",
    "# {'love': 1, 'i': 2, 'dogs': 3, 'cats': 4, 'you': 5}\n",
    "\n",
    "sequences = tk.texts_to_sequences(sentences)\n",
    "print(sequences)\n",
    "# [[2, 1, 3], [2, 1, 5], [4, 1, 3], [6, 4, 7, 8, 9, 10, 11]]"
   ]
  },
  {
   "cell_type": "code",
   "execution_count": 6,
   "id": "ca42e216",
   "metadata": {},
   "outputs": [
    {
     "name": "stdout",
     "output_type": "stream",
     "text": [
      "[[2, 1, 3], [3, 1]]\n"
     ]
    }
   ],
   "source": [
    "test_data = [\n",
    "\"i really love dogs\",\n",
    "\"dogs love food\"]\n",
    "\n",
    "test_seq = tk.texts_to_sequences(test_data)\n",
    "print(test_seq)"
   ]
  },
  {
   "cell_type": "code",
   "execution_count": 11,
   "id": "07ae79bf",
   "metadata": {},
   "outputs": [
    {
     "name": "stdout",
     "output_type": "stream",
     "text": [
      "[[0 5 3 2 4]\n",
      " [0 5 3 2 7]\n",
      " [0 6 3 2 4]\n",
      " [8 6 9 2 4]]\n"
     ]
    }
   ],
   "source": [
    "from tensorflow.keras.preprocessing.text import Tokenizer\n",
    "from tensorflow.keras.preprocessing.sequence import pad_sequences\n",
    "\n",
    "sentences = [\"I love my dog\", \"I love my cat\", \"You love my dog!\", \"Doy you think my dog is amazing?\"]\n",
    "\n",
    "tk = Tokenizer(num_words=100+1, oov_token=\"<OVV>\")\n",
    "tk.fit_on_texts(sentences)\n",
    "word_index = tk.word_index\n",
    "\n",
    "sequences = tk.texts_to_sequences(sentences)\n",
    "# Adding padding with max length of sequence being 5\n",
    "padded_sequences_pre = pad_sequences(sequences, maxlen=5, truncating=\"post\")\n",
    "print(padded_sequences_pre)\n",
    "# [[ 0  0  0  5  3  2  4]\n",
    "#  [ 0  0  0  5  3  2  7]\n",
    "#  [ 0  0  0  6  3  2  4]\n",
    "#  [ 8  6  9  2  4 10 11]]"
   ]
  },
  {
   "cell_type": "code",
   "execution_count": 29,
   "id": "3373c088",
   "metadata": {},
   "outputs": [],
   "source": [
    "import numpy as np\n",
    "arr = np.array([1,2,3,4,5,6])"
   ]
  },
  {
   "cell_type": "code",
   "execution_count": 30,
   "id": "b462467c",
   "metadata": {},
   "outputs": [
    {
     "data": {
      "text/plain": [
       "6"
      ]
     },
     "execution_count": 30,
     "metadata": {},
     "output_type": "execute_result"
    }
   ],
   "source": [
    "arr.size"
   ]
  },
  {
   "cell_type": "code",
   "execution_count": 31,
   "id": "c82ae684",
   "metadata": {},
   "outputs": [
    {
     "data": {
      "text/plain": [
       "array([[1],\n",
       "       [2],\n",
       "       [3],\n",
       "       [4],\n",
       "       [5],\n",
       "       [6]])"
      ]
     },
     "execution_count": 31,
     "metadata": {},
     "output_type": "execute_result"
    }
   ],
   "source": [
    "arr.reshape(6, 1)"
   ]
  },
  {
   "cell_type": "code",
   "execution_count": 42,
   "id": "ecad2b20",
   "metadata": {},
   "outputs": [
    {
     "data": {
      "text/plain": [
       "array([[1, 2],\n",
       "       [3, 4]])"
      ]
     },
     "execution_count": 42,
     "metadata": {},
     "output_type": "execute_result"
    }
   ],
   "source": [
    "x = np.array([[1,2],[3,4]]) \n",
    "x"
   ]
  },
  {
   "cell_type": "code",
   "execution_count": 59,
   "id": "1bc80691",
   "metadata": {},
   "outputs": [
    {
     "data": {
      "text/plain": [
       "array([[[1, 2]],\n",
       "\n",
       "       [[3, 4]]])"
      ]
     },
     "execution_count": 59,
     "metadata": {},
     "output_type": "execute_result"
    }
   ],
   "source": [
    "np.expand_dims(x, axis=1)"
   ]
  },
  {
   "cell_type": "code",
   "execution_count": null,
   "id": "6435760b",
   "metadata": {},
   "outputs": [],
   "source": []
  },
  {
   "cell_type": "code",
   "execution_count": null,
   "id": "caeaa466",
   "metadata": {},
   "outputs": [],
   "source": []
  }
 ],
 "metadata": {
  "kernelspec": {
   "display_name": "Python 3 (ipykernel)",
   "language": "python",
   "name": "python3"
  },
  "language_info": {
   "codemirror_mode": {
    "name": "ipython",
    "version": 3
   },
   "file_extension": ".py",
   "mimetype": "text/x-python",
   "name": "python",
   "nbconvert_exporter": "python",
   "pygments_lexer": "ipython3",
   "version": "3.8.12"
  }
 },
 "nbformat": 4,
 "nbformat_minor": 5
}
