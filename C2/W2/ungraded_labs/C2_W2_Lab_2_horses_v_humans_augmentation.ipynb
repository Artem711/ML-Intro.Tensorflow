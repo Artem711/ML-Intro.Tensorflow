{
 "cells": [
  {
   "cell_type": "markdown",
   "metadata": {},
   "source": [
    "<a href=\"https://colab.research.google.com/github/https-deeplearning-ai/tensorflow-1-public/blob/master/C2/W2/ungraded_labs/C2_W2_Lab_2_horses_v_humans_augmentation.ipynb\" target=\"_parent\"><img src=\"https://colab.research.google.com/assets/colab-badge.svg\" alt=\"Open In Colab\"/></a>"
   ]
  },
  {
   "cell_type": "markdown",
   "metadata": {
    "id": "37v_yExZppEp"
   },
   "source": [
    "# Ungraded Lab: Data Augmentation on the Horses or Humans Dataset\n",
    "\n",
    "In the previous lab, you saw how data augmentation helped improve the model's performance on unseen data. By tweaking the cat and dog training images, the model was able to learn features that are also representative of the validation data. However, applying data augmentation requires good understanding of your dataset. Simply transforming it randomly will not always yield good results. \n",
    "\n",
    "In the next cells, you will apply the same techniques to the `Horses or Humans` dataset and analyze the results."
   ]
  },
  {
   "cell_type": "code",
   "execution_count": 16,
   "metadata": {
    "id": "Lslf0vB3rQlU"
   },
   "outputs": [
    {
     "name": "stdout",
     "output_type": "stream",
     "text": [
      "zsh:1: command not found: gdown\n",
      "zsh:1: command not found: gdown\n"
     ]
    }
   ],
   "source": [
    "# Download the dataset\n",
    "\n",
    "# horses-or-humans dataset\n",
    "!gdown --id 1onaG42NZft3wCE1WH0GDEbUhu75fedP5\n",
    "\n",
    "# horses-or-humans validation dataset\n",
    "!gdown --id 1LYeusSEIiZQpwN-mthh5nKdA75VsKG1U\n",
    "\n",
    "# Download training and validation sets from here:\n",
    "# https://laurencemoroney.com/datasets.html"
   ]
  },
  {
   "cell_type": "code",
   "execution_count": 9,
   "metadata": {
    "id": "RXZT2UsyIVe_"
   },
   "outputs": [],
   "source": [
    "import os\n",
    "import zipfile\n",
    "\n",
    "# Extract the archive\n",
    "zip_ref = zipfile.ZipFile('./horse-or-human.zip', 'r')\n",
    "zip_ref.extractall('tmp/horse-or-human')\n",
    "\n",
    "zip_ref = zipfile.ZipFile('./validation-horse-or-human.zip', 'r')\n",
    "zip_ref.extractall('tmp/validation-horse-or-human')\n",
    "\n",
    "zip_ref.close()\n",
    "\n",
    "base_dir = os.path.join(\"tmp\")\n",
    "train_dir = os.path.join(base_dir, 'horse-or-human')\n",
    "validation_dir = os.path.join(base_dir, 'validation-horse-or-human')\n",
    "\n",
    "# Directory with training horse pictures\n",
    "train_horse_dir = os.path.join(train_dir, 'horses')\n",
    "\n",
    "# Directory with training human pictures\n",
    "train_human_dir = os.path.join(train_dir, 'humans')\n",
    "\n",
    "# Directory with training horse pictures\n",
    "validation_horse_dir = os.path.join(validation_dir, 'horses')\n",
    "\n",
    "# Directory with training human pictures\n",
    "validation_human_dir = os.path.join(validation_dir, 'humans')"
   ]
  },
  {
   "cell_type": "code",
   "execution_count": 10,
   "metadata": {
    "id": "PixZ2s5QbYQ3"
   },
   "outputs": [],
   "source": [
    "import tensorflow as tf\n",
    "\n",
    "# Build the model\n",
    "model = tf.keras.models.Sequential([\n",
    "    # Note the input shape is the desired size of the image 300x300 with 3 bytes color\n",
    "    # This is the first convolution\n",
    "    tf.keras.layers.Conv2D(16, (3,3), activation='relu', input_shape=(300, 300, 3)),\n",
    "    tf.keras.layers.MaxPooling2D(2, 2),\n",
    "    # The second convolution\n",
    "    tf.keras.layers.Conv2D(32, (3,3), activation='relu'),\n",
    "    tf.keras.layers.MaxPooling2D(2,2),\n",
    "    # The third convolution\n",
    "    tf.keras.layers.Conv2D(64, (3,3), activation='relu'),\n",
    "    tf.keras.layers.MaxPooling2D(2,2),\n",
    "    # The fourth convolution\n",
    "    tf.keras.layers.Conv2D(64, (3,3), activation='relu'),\n",
    "    tf.keras.layers.MaxPooling2D(2,2),\n",
    "    # The fifth convolution\n",
    "    tf.keras.layers.Conv2D(64, (3,3), activation='relu'),\n",
    "    tf.keras.layers.MaxPooling2D(2,2),\n",
    "    # Flatten the results to feed into a DNN\n",
    "    tf.keras.layers.Flatten(),\n",
    "    # 512 neuron hidden layer\n",
    "    tf.keras.layers.Dense(512, activation='relu'),\n",
    "    # Only 1 output neuron. It will contain a value from 0-1 where 0 for 1 class ('horses') and 1 for the other ('humans')\n",
    "    tf.keras.layers.Dense(1, activation='sigmoid')\n",
    "])"
   ]
  },
  {
   "cell_type": "code",
   "execution_count": 11,
   "metadata": {
    "id": "8DHWhFP_uhq3"
   },
   "outputs": [],
   "source": [
    "from tensorflow.keras.optimizers import RMSprop\n",
    "from tensorflow.keras.losses import binary_crossentropy\n",
    "\n",
    "# Set training parameters\n",
    "model.compile(loss=binary_crossentropy,\n",
    "              optimizer=RMSprop(learning_rate=1e-4),\n",
    "              metrics=['accuracy'])"
   ]
  },
  {
   "cell_type": "code",
   "execution_count": 12,
   "metadata": {
    "id": "ClebU9NJg99G"
   },
   "outputs": [
    {
     "name": "stdout",
     "output_type": "stream",
     "text": [
      "Found 1027 images belonging to 2 classes.\n",
      "Found 256 images belonging to 2 classes.\n"
     ]
    }
   ],
   "source": [
    "from tensorflow.keras.preprocessing.image import ImageDataGenerator\n",
    "\n",
    "# Apply data augmentation\n",
    "train_datagen = ImageDataGenerator(\n",
    "      rescale=1./255,\n",
    "      rotation_range=40,\n",
    "      width_shift_range=0.2,\n",
    "      height_shift_range=0.2,\n",
    "      shear_range=0.2,\n",
    "      zoom_range=0.2,\n",
    "      horizontal_flip=True,\n",
    "      fill_mode='nearest')\n",
    "\n",
    "validation_datagen = ImageDataGenerator(rescale=1/255)\n",
    "\n",
    "# Flow training images in batches of 128 using train_datagen generator\n",
    "train_generator = train_datagen.flow_from_directory(\n",
    "        train_dir,  # This is the source directory for training images\n",
    "        target_size=(300, 300),  # All images will be resized to 150x150\n",
    "        batch_size=128,\n",
    "        # Since we use binary_crossentropy loss, we need binary labels\n",
    "        class_mode='binary')\n",
    "\n",
    "# Flow training images in batches of 128 using train_datagen generator\n",
    "validation_generator = validation_datagen.flow_from_directory(\n",
    "        validation_dir,  # This is the source directory for training images\n",
    "        target_size=(300, 300),  # All images will be resized to 150x150\n",
    "        batch_size=32,\n",
    "        # Since we use binary_crossentropy loss, we need binary labels\n",
    "        class_mode='binary')"
   ]
  },
  {
   "cell_type": "code",
   "execution_count": 13,
   "metadata": {
    "id": "Fb1_lgobv81m"
   },
   "outputs": [
    {
     "name": "stdout",
     "output_type": "stream",
     "text": [
      "Epoch 1/20\n"
     ]
    },
    {
     "name": "stderr",
     "output_type": "stream",
     "text": [
      "2022-03-18 10:07:11.532331: W tensorflow/core/platform/profile_utils/cpu_utils.cc:128] Failed to get CPU frequency: 0 Hz\n",
      "2022-03-18 10:07:11.975403: I tensorflow/core/grappler/optimizers/custom_graph_optimizer_registry.cc:113] Plugin optimizer for device_type GPU is enabled.\n"
     ]
    },
    {
     "name": "stdout",
     "output_type": "stream",
     "text": [
      "8/8 [==============================] - ETA: 0s - loss: 0.6873 - accuracy: 0.5322"
     ]
    },
    {
     "name": "stderr",
     "output_type": "stream",
     "text": [
      "2022-03-18 10:07:25.906180: I tensorflow/core/grappler/optimizers/custom_graph_optimizer_registry.cc:113] Plugin optimizer for device_type GPU is enabled.\n"
     ]
    },
    {
     "name": "stdout",
     "output_type": "stream",
     "text": [
      "8/8 [==============================] - 15s 1s/step - loss: 0.6873 - accuracy: 0.5322 - val_loss: 0.6547 - val_accuracy: 0.8242\n",
      "Epoch 2/20\n",
      "8/8 [==============================] - 12s 1s/step - loss: 0.6717 - accuracy: 0.5751 - val_loss: 0.6686 - val_accuracy: 0.5000\n",
      "Epoch 3/20\n",
      "8/8 [==============================] - 11s 1s/step - loss: 0.6421 - accuracy: 0.6752 - val_loss: 0.6043 - val_accuracy: 0.6406\n",
      "Epoch 4/20\n",
      "8/8 [==============================] - 13s 2s/step - loss: 0.6126 - accuracy: 0.6992 - val_loss: 0.5433 - val_accuracy: 0.7891\n",
      "Epoch 5/20\n",
      "8/8 [==============================] - 12s 1s/step - loss: 0.5793 - accuracy: 0.7164 - val_loss: 0.6360 - val_accuracy: 0.5742\n",
      "Epoch 6/20\n",
      "8/8 [==============================] - 12s 1s/step - loss: 0.5983 - accuracy: 0.6874 - val_loss: 0.6790 - val_accuracy: 0.5586\n",
      "Epoch 7/20\n",
      "8/8 [==============================] - 12s 2s/step - loss: 0.5419 - accuracy: 0.7608 - val_loss: 0.7049 - val_accuracy: 0.5781\n",
      "Epoch 8/20\n",
      "8/8 [==============================] - 12s 1s/step - loss: 0.5359 - accuracy: 0.7475 - val_loss: 1.5466 - val_accuracy: 0.5000\n",
      "Epoch 9/20\n",
      "8/8 [==============================] - 12s 1s/step - loss: 0.5395 - accuracy: 0.7341 - val_loss: 0.5920 - val_accuracy: 0.6875\n",
      "Epoch 10/20\n",
      "8/8 [==============================] - 12s 1s/step - loss: 0.5738 - accuracy: 0.7208 - val_loss: 0.5911 - val_accuracy: 0.6875\n",
      "Epoch 11/20\n",
      "8/8 [==============================] - 12s 1s/step - loss: 0.4677 - accuracy: 0.7887 - val_loss: 0.8328 - val_accuracy: 0.5742\n",
      "Epoch 12/20\n",
      "8/8 [==============================] - 12s 1s/step - loss: 0.4909 - accuracy: 0.7775 - val_loss: 0.5913 - val_accuracy: 0.7070\n",
      "Epoch 13/20\n",
      "8/8 [==============================] - 12s 1s/step - loss: 0.4386 - accuracy: 0.7964 - val_loss: 0.4301 - val_accuracy: 0.8008\n",
      "Epoch 14/20\n",
      "8/8 [==============================] - 12s 1s/step - loss: 0.4749 - accuracy: 0.7653 - val_loss: 0.7212 - val_accuracy: 0.6875\n",
      "Epoch 15/20\n",
      "8/8 [==============================] - 12s 1s/step - loss: 0.4846 - accuracy: 0.7931 - val_loss: 0.8164 - val_accuracy: 0.6523\n",
      "Epoch 16/20\n",
      "8/8 [==============================] - 12s 1s/step - loss: 0.4411 - accuracy: 0.8142 - val_loss: 0.8392 - val_accuracy: 0.6680\n",
      "Epoch 17/20\n",
      "8/8 [==============================] - 12s 1s/step - loss: 0.4509 - accuracy: 0.8076 - val_loss: 0.7773 - val_accuracy: 0.6992\n",
      "Epoch 18/20\n",
      "8/8 [==============================] - 12s 1s/step - loss: 0.4511 - accuracy: 0.7875 - val_loss: 0.9735 - val_accuracy: 0.6328\n",
      "Epoch 19/20\n",
      "8/8 [==============================] - 11s 1s/step - loss: 0.3909 - accuracy: 0.8432 - val_loss: 0.5037 - val_accuracy: 0.8008\n",
      "Epoch 20/20\n",
      "8/8 [==============================] - 13s 2s/step - loss: 0.4354 - accuracy: 0.8125 - val_loss: 1.0644 - val_accuracy: 0.6367\n"
     ]
    }
   ],
   "source": [
    "# Constant for epochs\n",
    "EPOCHS = 20\n",
    "\n",
    "# Train the model\n",
    "history = model.fit(\n",
    "      train_generator,\n",
    "      steps_per_epoch=8,  \n",
    "      epochs=EPOCHS,\n",
    "      verbose=1,\n",
    "      validation_data = validation_generator,\n",
    "      validation_steps=8)"
   ]
  },
  {
   "cell_type": "code",
   "execution_count": 15,
   "metadata": {
    "id": "7zNPRWOVJdOH"
   },
   "outputs": [
    {
     "data": {
      "image/png": "[encoded data removed]",
      "text/plain": [
       "<Figure size 432x288 with 1 Axes>"
      ]
     },
     "metadata": {
      "needs_background": "light"
     },
     "output_type": "display_data"
    },
    {
     "data": {
      "image/png": "[encoded data removed]",
      "text/plain": [
       "<Figure size 432x288 with 1 Axes>"
      ]
     },
     "metadata": {
      "needs_background": "light"
     },
     "output_type": "display_data"
    },
    {
     "data": {
      "text/plain": [
       "<Figure size 432x288 with 0 Axes>"
      ]
     },
     "metadata": {},
     "output_type": "display_data"
    }
   ],
   "source": [
    "import matplotlib.pyplot as plt\n",
    "\n",
    "# Plot the model results\n",
    "acc = history.history['accuracy']\n",
    "val_acc = history.history['val_accuracy']\n",
    "loss = history.history['loss']\n",
    "val_loss = history.history['val_loss']\n",
    "\n",
    "epochs = range(len(acc))\n",
    "\n",
    "line1, = plt.plot(epochs, acc, 'r', label='Training accuracy')\n",
    "line2, = plt.plot(epochs, val_acc, 'b', label='Validation accuracy')\n",
    "plt.title('Training and validation accuracy')\n",
    "plt.legend(handles=[line1, line2])\n",
    "plt.figure()\n",
    "\n",
    "line1, = plt.plot(epochs, loss, 'r', label='Training Loss')\n",
    "line2, = plt.plot(epochs, val_loss, 'b', label='Validation Loss')\n",
    "plt.title('Training and validation loss')\n",
    "plt.legend(handles=[line1, line2])\n",
    "plt.figure()\n",
    "\n",
    "plt.show()"
   ]
  },
  {
   "cell_type": "markdown",
   "metadata": {
    "id": "hwyabYvCsvtn"
   },
   "source": [
    "As you can see in the results, the preprocessing techniques used in augmenting the data did not help much in the results. The validation accuracy is fluctuating and not trending up like the training accuracy. This might be because the additional training data generated still do not represent the features in the validation data. For example, some human or horse poses in the validation set cannot be mimicked by the image processing techniques that `ImageDataGenerator` provides. It might also be that the background of the training images are also learned so the white background of the validation set is throwing the model off even with cropping. Try looking at the validation images in the `tmp/validation-horse-or-human` directory (note: if you are using Colab, you can use the file explorer on the left to explore the images) and see if you can augment the training images to match its characteristics. If this is not possible, then at this point you can consider other techniques and you will see that in next week's lessons."
   ]
  }
 ],
 "metadata": {
  "accelerator": "GPU",
  "colab": {
   "collapsed_sections": [],
   "name": "C2_W2_Lab_2_horses_v_humans_augmentation.ipynb",
   "private_outputs": true,
   "provenance": [
    {
     "file_id": "https://github.com/https-deeplearning-ai/tensorflow-1-public/blob/adding_C2/C2/W2/ungraded_labs/C2_W2_Lab_2_horses_v_humans_augmentation.ipynb",
     "timestamp": 1639648217641
    }
   ]
  },
  "kernelspec": {
   "display_name": "Python 3 (ipykernel)",
   "language": "python",
   "name": "python3"
  },
  "language_info": {
   "codemirror_mode": {
    "name": "ipython",
    "version": 3
   },
   "file_extension": ".py",
   "mimetype": "text/x-python",
   "name": "python",
   "nbconvert_exporter": "python",
   "pygments_lexer": "ipython3",
   "version": "3.8.12"
  }
 },
 "nbformat": 4,
 "nbformat_minor": 1
}
