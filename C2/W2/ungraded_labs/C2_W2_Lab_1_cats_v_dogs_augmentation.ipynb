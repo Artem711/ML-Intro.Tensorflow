{
 "cells": [
  {
   "cell_type": "markdown",
   "metadata": {},
   "source": [
    "<a href=\"https://colab.research.google.com/github/https-deeplearning-ai/tensorflow-1-public/blob/master/C2/W2/ungraded_labs/C2_W2_Lab_1_cats_v_dogs_augmentation.ipynb\" target=\"_parent\"><img src=\"https://colab.research.google.com/assets/colab-badge.svg\" alt=\"Open In Colab\"/></a>"
   ]
  },
  {
   "cell_type": "markdown",
   "metadata": {
    "id": "gGxCD4mGHHjG"
   },
   "source": [
    "# Ungraded Lab: Data Augmentation\n",
    "\n",
    "In the previous lessons, you saw that having a high training accuracy does not automatically mean having a good predictive model. It can still perform poorly on new data because it has overfit to the training set. In this lab, you will see how to avoid that using _data augmentation_. This increases the amount of training data by modifying the existing training data's properties. For example, in image data, you can apply different preprocessing techniques such as rotate, flip, shear, or zoom on your existing images so you can simulate other data that the model should also learn from. This way, the model would see more variety in the images during training so it will infer better on new, previously unseen data.\n",
    "\n",
    "Let's see how you can do this in the following sections."
   ]
  },
  {
   "cell_type": "markdown",
   "metadata": {
    "id": "kJJqX4DxcQs8"
   },
   "source": [
    "## Baseline Performance\n",
    "\n",
    "You will start with a model that's very effective at learning `Cats vs Dogs` without data augmentation. It's similar to the previous models that you have used. Note that there are four convolutional layers with 32, 64, 128 and 128 convolutions respectively. The code is basically the same from the previous lab so we won't go over the details step by step since you've already seen it before.\n",
    "\n",
    "You will train only for 20 epochs to save time but feel free to increase this if you want."
   ]
  },
  {
   "cell_type": "code",
   "execution_count": 4,
   "metadata": {},
   "outputs": [
    {
     "name": "stdout",
     "output_type": "stream",
     "text": [
      "Writing download.sh\n"
     ]
    }
   ],
   "source": [
    "%%writefile download.sh\n",
    "\n",
    "#!/bin/bash\n",
    "fileid=\"$1\"\n",
    "filename=\"$2\"\n",
    "html=`curl -c ./cookie -s -L \"https://drive.google.com/uc?export=download&id=${fileid}\"`\n",
    "curl -Lb ./cookie \"https://drive.google.com/uc?export=download&`echo ${html}|grep -Po '(confirm=[a-zA-Z0-9\\-_]+)'`&id=${fileid}\" -o ${filename}"
   ]
  },
  {
   "cell_type": "code",
   "execution_count": 13,
   "metadata": {
    "id": "zJZIF29-dIRv"
   },
   "outputs": [
    {
     "name": "stdout",
     "output_type": "stream",
     "text": [
      "bash: download.sh: No such file or directory\r\n"
     ]
    }
   ],
   "source": [
    "# Download the dataset\n",
    "!bash download.sh 1RL0T7Rg4XqQNRCkjfnLo4goOJQ7XZro9 cats_and_dogs_filtered.zip\n",
    "\n",
    "# Download the zip file manually from:\n",
    "# https://www.kaggle.com/birajsth/cats-and-dogs-filtered"
   ]
  },
  {
   "cell_type": "code",
   "execution_count": 14,
   "metadata": {},
   "outputs": [],
   "source": [
    "import os\n",
    "import zipfile\n",
    "\n",
    "zip_ref = zipfile.ZipFile('./archive.zip', 'r')\n",
    "zip_ref.extractall(\"tmp\")\n",
    "zip_ref.close()\n",
    "\n",
    "# Assign training and validation set directories\n",
    "base_dir = 'tmp/cats_and_dogs_filtered'\n",
    "train_dir = os.path.join(base_dir, 'train')\n",
    "validation_dir = os.path.join(base_dir, 'validation')\n",
    "\n",
    "# Directory with training cat pictures\n",
    "train_cats_dir = os.path.join(train_dir, 'cats')\n",
    "\n",
    "# Directory with training dog pictures\n",
    "train_dogs_dir = os.path.join(train_dir, 'dogs')\n",
    "\n",
    "# Directory with validation cat pictures\n",
    "validation_cats_dir = os.path.join(validation_dir, 'cats')\n",
    "\n",
    "# Directory with validation dog pictures\n",
    "validation_dogs_dir = os.path.join(validation_dir, 'dogs')"
   ]
  },
  {
   "cell_type": "code",
   "execution_count": 15,
   "metadata": {
    "id": "_DyUfCTgdwa8"
   },
   "outputs": [],
   "source": [
    "# # Extract the archive\n",
    "# zip_ref = zipfile.ZipFile(\"./cats_and_dogs_filtered.zip\", 'r')\n",
    "# zip_ref.extractall(\"tmp/\")\n",
    "# zip_ref.close()\n",
    "\n",
    "# # Assign training and validation set directories\n",
    "# base_dir = 'tmp/cats_and_dogs_filtered'\n",
    "# train_dir = os.path.join(base_dir, 'train')\n",
    "# validation_dir = os.path.join(base_dir, 'validation')\n",
    "\n",
    "# # Directory with training cat pictures\n",
    "# train_cats_dir = os.path.join(train_dir, 'cats')\n",
    "\n",
    "# # Directory with training dog pictures\n",
    "# train_dogs_dir = os.path.join(train_dir, 'dogs')\n",
    "\n",
    "# # Directory with validation cat pictures\n",
    "# validation_cats_dir = os.path.join(validation_dir, 'cats')\n",
    "\n",
    "# # Directory with validation dog pictures\n",
    "# validation_dogs_dir = os.path.join(validation_dir, 'dogs')"
   ]
  },
  {
   "cell_type": "markdown",
   "metadata": {
    "id": "Ub_BdOJIfZ_Q"
   },
   "source": [
    "You will place the model creation inside a function so you can easily initialize a new one when you use data augmentation later in this notebook."
   ]
  },
  {
   "cell_type": "code",
   "execution_count": 17,
   "metadata": {
    "id": "uWllK_Wad-Mx"
   },
   "outputs": [],
   "source": [
    "import tensorflow as tf\n",
    "from tensorflow.keras.optimizers import RMSprop\n",
    "from tensorflow.keras.losses import binary_crossentropy\n",
    "\n",
    "def create_model():\n",
    "  '''Creates a CNN with 4 convolutional layers'''\n",
    "  model = tf.keras.models.Sequential([\n",
    "      tf.keras.layers.Conv2D(32, (3,3), activation='relu', input_shape=(150, 150, 3)),\n",
    "      tf.keras.layers.MaxPooling2D(2, 2),\n",
    "      tf.keras.layers.Conv2D(64, (3,3), activation='relu'),\n",
    "      tf.keras.layers.MaxPooling2D(2,2),\n",
    "      tf.keras.layers.Conv2D(128, (3,3), activation='relu'),\n",
    "      tf.keras.layers.MaxPooling2D(2,2),\n",
    "      tf.keras.layers.Conv2D(128, (3,3), activation='relu'),\n",
    "      tf.keras.layers.MaxPooling2D(2,2),\n",
    "      tf.keras.layers.Flatten(),\n",
    "      tf.keras.layers.Dense(512, activation='relu'),\n",
    "      tf.keras.layers.Dense(1, activation='sigmoid')\n",
    "  ])\n",
    "\n",
    "  model.compile(loss=binary_crossentropy,\n",
    "                optimizer=RMSprop(learning_rate=1e-4),\n",
    "                metrics=['accuracy'])\n",
    "  \n",
    "  return model"
   ]
  },
  {
   "cell_type": "code",
   "execution_count": 19,
   "metadata": {
    "id": "MJPyDEzOqrKB"
   },
   "outputs": [
    {
     "name": "stdout",
     "output_type": "stream",
     "text": [
      "Found 2000 images belonging to 2 classes.\n",
      "Found 1000 images belonging to 2 classes.\n"
     ]
    }
   ],
   "source": [
    "from tensorflow.keras.preprocessing.image import ImageDataGenerator\n",
    "\n",
    "# All images will be rescaled by 1./255\n",
    "train_datagen = ImageDataGenerator(rescale=1./255)\n",
    "test_datagen = ImageDataGenerator(rescale=1./255)\n",
    "\n",
    "TRAIN_NUMBER_OF_IMAGES = 2000\n",
    "TRAIN_BATCH_SIZE = 20\n",
    "TRAIN_STEPS_PER_EPOCH = TRAIN_NUMBER_OF_IMAGES/TRAIN_BATCH_SIZE\n",
    "\n",
    "VALIDATION_NUMBER_OF_IMAGES = 1000\n",
    "VALIDATION_BATCH_SIZE = 20\n",
    "VALIDATION_STEPS_PER_EPOCH = VALIDATION_NUMBER_OF_IMAGES/VALIDATION_BATCH_SIZE\n",
    "\n",
    "# Flow training images in batches of 20 using train_datagen generator\n",
    "train_generator = train_datagen.flow_from_directory(\n",
    "        train_dir,  # This is the source directory for training images\n",
    "        target_size=(150, 150),  # All images will be resized to 150x150\n",
    "        batch_size=TRAIN_BATCH_SIZE,\n",
    "        # Since we use binary_crossentropy loss, we need binary labels\n",
    "        class_mode='binary')\n",
    "\n",
    "# Flow validation images in batches of 20 using test_datagen generator\n",
    "validation_generator = test_datagen.flow_from_directory(\n",
    "        validation_dir,\n",
    "        target_size=(150, 150),\n",
    "        batch_size=VALIDATION_BATCH_SIZE,\n",
    "        class_mode='binary')"
   ]
  },
  {
   "cell_type": "code",
   "execution_count": 20,
   "metadata": {
    "id": "hdqUoF44esR3"
   },
   "outputs": [
    {
     "name": "stderr",
     "output_type": "stream",
     "text": [
      "2022-03-18 09:54:52.507909: I tensorflow/core/common_runtime/pluggable_device/pluggable_device_factory.cc:305] Could not identify NUMA node of platform GPU ID 0, defaulting to 0. Your kernel may not have been built with NUMA support.\n",
      "2022-03-18 09:54:52.508310: I tensorflow/core/common_runtime/pluggable_device/pluggable_device_factory.cc:271] Created TensorFlow device (/job:localhost/replica:0/task:0/device:GPU:0 with 0 MB memory) -> physical PluggableDevice (device: 0, name: METAL, pci bus id: <undefined>)\n"
     ]
    },
    {
     "name": "stdout",
     "output_type": "stream",
     "text": [
      "Metal device set to: Apple M1 Pro\n",
      "Epoch 1/20\n"
     ]
    },
    {
     "name": "stderr",
     "output_type": "stream",
     "text": [
      "2022-03-18 09:54:52.965985: W tensorflow/core/platform/profile_utils/cpu_utils.cc:128] Failed to get CPU frequency: 0 Hz\n",
      "2022-03-18 09:54:53.260263: I tensorflow/core/grappler/optimizers/custom_graph_optimizer_registry.cc:113] Plugin optimizer for device_type GPU is enabled.\n",
      "2022-03-18 09:54:58.378643: I tensorflow/core/grappler/optimizers/custom_graph_optimizer_registry.cc:113] Plugin optimizer for device_type GPU is enabled.\n"
     ]
    },
    {
     "name": "stdout",
     "output_type": "stream",
     "text": [
      "100/100 - 7s - loss: 0.6888 - accuracy: 0.5290 - val_loss: 0.6764 - val_accuracy: 0.5800 - 7s/epoch - 68ms/step\n",
      "Epoch 2/20\n",
      "100/100 - 4s - loss: 0.6552 - accuracy: 0.6250 - val_loss: 0.6293 - val_accuracy: 0.6610 - 4s/epoch - 42ms/step\n",
      "Epoch 3/20\n",
      "100/100 - 4s - loss: 0.5980 - accuracy: 0.6940 - val_loss: 0.6149 - val_accuracy: 0.6770 - 4s/epoch - 41ms/step\n",
      "Epoch 4/20\n",
      "100/100 - 4s - loss: 0.5496 - accuracy: 0.7175 - val_loss: 0.6137 - val_accuracy: 0.6430 - 4s/epoch - 42ms/step\n",
      "Epoch 5/20\n",
      "100/100 - 4s - loss: 0.5208 - accuracy: 0.7410 - val_loss: 0.5928 - val_accuracy: 0.6700 - 4s/epoch - 41ms/step\n",
      "Epoch 6/20\n",
      "100/100 - 4s - loss: 0.4891 - accuracy: 0.7580 - val_loss: 0.5412 - val_accuracy: 0.7290 - 4s/epoch - 42ms/step\n",
      "Epoch 7/20\n",
      "100/100 - 4s - loss: 0.4619 - accuracy: 0.7735 - val_loss: 0.5281 - val_accuracy: 0.7360 - 4s/epoch - 40ms/step\n",
      "Epoch 8/20\n",
      "100/100 - 4s - loss: 0.4366 - accuracy: 0.7965 - val_loss: 0.5199 - val_accuracy: 0.7360 - 4s/epoch - 41ms/step\n",
      "Epoch 9/20\n",
      "100/100 - 4s - loss: 0.4062 - accuracy: 0.8125 - val_loss: 0.5361 - val_accuracy: 0.7480 - 4s/epoch - 41ms/step\n",
      "Epoch 10/20\n",
      "100/100 - 4s - loss: 0.3872 - accuracy: 0.8250 - val_loss: 0.6044 - val_accuracy: 0.7100 - 4s/epoch - 41ms/step\n",
      "Epoch 11/20\n",
      "100/100 - 4s - loss: 0.3674 - accuracy: 0.8475 - val_loss: 0.5159 - val_accuracy: 0.7460 - 4s/epoch - 41ms/step\n",
      "Epoch 12/20\n",
      "100/100 - 4s - loss: 0.3430 - accuracy: 0.8485 - val_loss: 0.5398 - val_accuracy: 0.7540 - 4s/epoch - 40ms/step\n",
      "Epoch 13/20\n",
      "100/100 - 4s - loss: 0.3219 - accuracy: 0.8600 - val_loss: 0.5242 - val_accuracy: 0.7490 - 4s/epoch - 41ms/step\n",
      "Epoch 14/20\n",
      "100/100 - 4s - loss: 0.3015 - accuracy: 0.8770 - val_loss: 0.5419 - val_accuracy: 0.7550 - 4s/epoch - 41ms/step\n",
      "Epoch 15/20\n",
      "100/100 - 4s - loss: 0.2848 - accuracy: 0.8820 - val_loss: 0.5866 - val_accuracy: 0.7510 - 4s/epoch - 40ms/step\n",
      "Epoch 16/20\n",
      "100/100 - 4s - loss: 0.2667 - accuracy: 0.8905 - val_loss: 0.5346 - val_accuracy: 0.7590 - 4s/epoch - 41ms/step\n",
      "Epoch 17/20\n",
      "100/100 - 4s - loss: 0.2484 - accuracy: 0.9045 - val_loss: 0.7432 - val_accuracy: 0.6990 - 4s/epoch - 40ms/step\n",
      "Epoch 18/20\n",
      "100/100 - 4s - loss: 0.2325 - accuracy: 0.9070 - val_loss: 0.5919 - val_accuracy: 0.7560 - 4s/epoch - 40ms/step\n",
      "Epoch 19/20\n",
      "100/100 - 4s - loss: 0.2142 - accuracy: 0.9290 - val_loss: 0.5839 - val_accuracy: 0.7560 - 4s/epoch - 40ms/step\n",
      "Epoch 20/20\n",
      "100/100 - 4s - loss: 0.1918 - accuracy: 0.9320 - val_loss: 0.6126 - val_accuracy: 0.7490 - 4s/epoch - 40ms/step\n"
     ]
    }
   ],
   "source": [
    "# Constant for epochs\n",
    "EPOCHS = 20\n",
    "\n",
    "# Create a new model\n",
    "model = create_model()\n",
    "\n",
    "# Train the model\n",
    "history = model.fit(\n",
    "      train_generator,\n",
    "      steps_per_epoch=TRAIN_STEPS_PER_EPOCH,  # 2000 images = batch_size * steps\n",
    "      epochs=EPOCHS,\n",
    "      validation_data=validation_generator,\n",
    "      validation_steps=VALIDATION_STEPS_PER_EPOCH,  # 1000 images = batch_size * steps\n",
    "      verbose=2)"
   ]
  },
  {
   "cell_type": "markdown",
   "metadata": {
    "id": "Y-G0Am4cguNt"
   },
   "source": [
    "You will then visualize the loss and accuracy with respect to the training and validation set. You will again use a convenience function so it can be reused later. This function accepts a [History](https://www.tensorflow.org/api_docs/python/tf/keras/callbacks/History) object which contains the results of the `fit()` method you ran above."
   ]
  },
  {
   "cell_type": "code",
   "execution_count": 21,
   "metadata": {
    "id": "GZWPcmKWO303"
   },
   "outputs": [],
   "source": [
    "import matplotlib.pyplot as plt\n",
    "\n",
    "def plot_loss_acc(history):\n",
    "  '''Plots the training and validation loss and accuracy from a history object'''\n",
    "  acc = history.history['accuracy']\n",
    "  val_acc = history.history['val_accuracy']\n",
    "  loss = history.history['loss']\n",
    "  val_loss = history.history['val_loss']\n",
    "\n",
    "  epochs = range(len(acc))\n",
    "\n",
    "  line1, = plt.plot(epochs, acc, 'bo', label='Training accuracy')\n",
    "  line2, = plt.plot(epochs, val_acc, 'b', label='Validation accuracy')\n",
    "  plt.title('Training and validation accuracy')\n",
    "  plt.legend(handles=[line1, line2])\n",
    "  plt.figure()\n",
    "\n",
    "  line1, = plt.plot(epochs, loss, 'bo', label='Training Loss')\n",
    "  line2, = plt.plot(epochs, val_loss, 'b', label='Validation Loss')\n",
    "  plt.title('Training and validation loss')\n",
    "  plt.legend(handles=[line1, line2])\n",
    "  plt.figure()\n",
    "\n",
    "  plt.show()"
   ]
  },
  {
   "cell_type": "code",
   "execution_count": 22,
   "metadata": {
    "id": "Vojz4NYXiT_f"
   },
   "outputs": [
    {
     "data": {
      "image/png": "[encoded data removed]",
      "text/plain": [
       "<Figure size 432x288 with 1 Axes>"
      ]
     },
     "metadata": {
      "needs_background": "light"
     },
     "output_type": "display_data"
    },
    {
     "data": {
      "image/png": "[encoded data removed]",
      "text/plain": [
       "<Figure size 432x288 with 1 Axes>"
      ]
     },
     "metadata": {
      "needs_background": "light"
     },
     "output_type": "display_data"
    },
    {
     "data": {
      "text/plain": [
       "<Figure size 432x288 with 0 Axes>"
      ]
     },
     "metadata": {},
     "output_type": "display_data"
    }
   ],
   "source": [
    "# Plot training results\n",
    "plot_loss_acc(history)"
   ]
  },
  {
   "cell_type": "markdown",
   "metadata": {
    "id": "zb81GvNov-Tg"
   },
   "source": [
    "From the results above, you'll see the training accuracy is more than 90%, and the validation accuracy is in the 70%-80% range. This is a great example of _overfitting_ -- which in short means that it can do very well with images it has seen before, but not so well with images it hasn't.\n"
   ]
  },
  {
   "cell_type": "markdown",
   "metadata": {
    "id": "5KBz-vFbjLZX"
   },
   "source": [
    "## Data augmentation\n",
    "\n",
    "One simple method to avoid overfitting is to augment the images a bit. If you think about it, most pictures of a cat are very similar -- the ears are at the top, then the eyes, then the mouth etc. Things like the distance between the eyes and ears will always be quite similar too. \n",
    "\n",
    "What if you tweak with the images a bit -- rotate the image, squash it, etc.  That's what image augementation is all about. And there's an API that makes it easy!\n",
    "\n",
    "Take a look at the [ImageDataGenerator](https://www.tensorflow.org/api_docs/python/tf/keras/preprocessing/image/ImageDataGenerator) which you have been using to rescale the image. There are other properties on it that you can use to augment the image. \n",
    "\n",
    "```\n",
    "# Updated to do image augmentation\n",
    "train_datagen = ImageDataGenerator(\n",
    "      rotation_range=40,\n",
    "      width_shift_range=0.2,\n",
    "      height_shift_range=0.2,\n",
    "      shear_range=0.2,\n",
    "      zoom_range=0.2,\n",
    "      horizontal_flip=True,\n",
    "      fill_mode='nearest')\n",
    "```\n",
    "\n",
    "These are just a few of the options available. Let's quickly go over it:\n",
    "\n",
    "* `rotation_range` is a value in degrees (0–180) within which to randomly rotate pictures.\n",
    "* `width_shift` and `height_shift` are ranges (as a fraction of total width or height) within which to randomly translate pictures vertically or horizontally.\n",
    "* `shear_range` is for randomly applying shearing transformations.\n",
    "* `zoom_range` is for randomly zooming inside pictures.\n",
    "* `horizontal_flip` is for randomly flipping half of the images horizontally. This is relevant when there are no assumptions of horizontal assymmetry (e.g. real-world pictures).\n",
    "* `fill_mode` is the strategy used for filling in newly created pixels, which can appear after a rotation or a width/height shift.\n",
    "\n",
    "\n",
    "Run the next cells to see the impact on the results. The code is similar to the baseline but the definition of `train_datagen` has been updated to use the parameters described above.\n"
   ]
  },
  {
   "cell_type": "code",
   "execution_count": 23,
   "metadata": {
    "id": "UK7_Fflgv8YC"
   },
   "outputs": [
    {
     "name": "stdout",
     "output_type": "stream",
     "text": [
      "Found 2000 images belonging to 2 classes.\n",
      "Found 1000 images belonging to 2 classes.\n",
      "Epoch 1/20\n"
     ]
    },
    {
     "name": "stderr",
     "output_type": "stream",
     "text": [
      "2022-03-18 09:59:58.540725: I tensorflow/core/grappler/optimizers/custom_graph_optimizer_registry.cc:113] Plugin optimizer for device_type GPU is enabled.\n",
      "2022-03-18 10:00:06.051531: I tensorflow/core/grappler/optimizers/custom_graph_optimizer_registry.cc:113] Plugin optimizer for device_type GPU is enabled.\n"
     ]
    },
    {
     "name": "stdout",
     "output_type": "stream",
     "text": [
      "100/100 - 9s - loss: 0.6934 - accuracy: 0.5155 - val_loss: 0.6921 - val_accuracy: 0.5000 - 9s/epoch - 92ms/step\n",
      "Epoch 2/20\n",
      "100/100 - 9s - loss: 0.6792 - accuracy: 0.5565 - val_loss: 0.6606 - val_accuracy: 0.5850 - 9s/epoch - 87ms/step\n",
      "Epoch 3/20\n",
      "100/100 - 9s - loss: 0.6625 - accuracy: 0.5990 - val_loss: 0.6283 - val_accuracy: 0.6510 - 9s/epoch - 89ms/step\n",
      "Epoch 4/20\n",
      "100/100 - 8s - loss: 0.6430 - accuracy: 0.6330 - val_loss: 0.6683 - val_accuracy: 0.5630 - 8s/epoch - 84ms/step\n",
      "Epoch 5/20\n",
      "100/100 - 8s - loss: 0.6285 - accuracy: 0.6550 - val_loss: 0.5921 - val_accuracy: 0.6760 - 8s/epoch - 83ms/step\n",
      "Epoch 6/20\n",
      "100/100 - 9s - loss: 0.6146 - accuracy: 0.6560 - val_loss: 0.5661 - val_accuracy: 0.6960 - 9s/epoch - 87ms/step\n",
      "Epoch 7/20\n",
      "100/100 - 8s - loss: 0.6072 - accuracy: 0.6725 - val_loss: 0.5677 - val_accuracy: 0.7000 - 8s/epoch - 84ms/step\n",
      "Epoch 8/20\n",
      "100/100 - 9s - loss: 0.5916 - accuracy: 0.6920 - val_loss: 0.5605 - val_accuracy: 0.6980 - 9s/epoch - 85ms/step\n",
      "Epoch 9/20\n",
      "100/100 - 8s - loss: 0.5825 - accuracy: 0.6840 - val_loss: 0.5390 - val_accuracy: 0.7280 - 8s/epoch - 83ms/step\n",
      "Epoch 10/20\n",
      "100/100 - 8s - loss: 0.5706 - accuracy: 0.7025 - val_loss: 0.5666 - val_accuracy: 0.6880 - 8s/epoch - 84ms/step\n",
      "Epoch 11/20\n",
      "100/100 - 9s - loss: 0.5661 - accuracy: 0.6970 - val_loss: 0.5739 - val_accuracy: 0.7100 - 9s/epoch - 87ms/step\n",
      "Epoch 12/20\n",
      "100/100 - 9s - loss: 0.5723 - accuracy: 0.6935 - val_loss: 0.5272 - val_accuracy: 0.7370 - 9s/epoch - 88ms/step\n",
      "Epoch 13/20\n",
      "100/100 - 8s - loss: 0.5598 - accuracy: 0.7105 - val_loss: 0.5174 - val_accuracy: 0.7400 - 8s/epoch - 82ms/step\n",
      "Epoch 14/20\n",
      "100/100 - 8s - loss: 0.5495 - accuracy: 0.7190 - val_loss: 0.5471 - val_accuracy: 0.6970 - 8s/epoch - 79ms/step\n",
      "Epoch 15/20\n",
      "100/100 - 8s - loss: 0.5490 - accuracy: 0.7135 - val_loss: 0.5081 - val_accuracy: 0.7460 - 8s/epoch - 78ms/step\n",
      "Epoch 16/20\n",
      "100/100 - 8s - loss: 0.5578 - accuracy: 0.7050 - val_loss: 0.5229 - val_accuracy: 0.7250 - 8s/epoch - 81ms/step\n",
      "Epoch 17/20\n",
      "100/100 - 8s - loss: 0.5450 - accuracy: 0.7170 - val_loss: 0.5170 - val_accuracy: 0.7320 - 8s/epoch - 84ms/step\n",
      "Epoch 18/20\n",
      "100/100 - 9s - loss: 0.5321 - accuracy: 0.7395 - val_loss: 0.6562 - val_accuracy: 0.6680 - 9s/epoch - 88ms/step\n",
      "Epoch 19/20\n",
      "100/100 - 8s - loss: 0.5350 - accuracy: 0.7265 - val_loss: 0.5283 - val_accuracy: 0.7190 - 8s/epoch - 84ms/step\n",
      "Epoch 20/20\n",
      "100/100 - 8s - loss: 0.5237 - accuracy: 0.7420 - val_loss: 0.5020 - val_accuracy: 0.7310 - 8s/epoch - 85ms/step\n"
     ]
    }
   ],
   "source": [
    "# Create new model\n",
    "model_for_aug = create_model()\n",
    "\n",
    "# This code has changed. Now instead of the ImageGenerator just rescaling\n",
    "# the image, we also rotate and do other operations\n",
    "train_datagen = ImageDataGenerator(\n",
    "      rescale=1./255,\n",
    "      rotation_range=40,\n",
    "      width_shift_range=0.2,\n",
    "      height_shift_range=0.2,\n",
    "      shear_range=0.2,\n",
    "      zoom_range=0.2,\n",
    "      horizontal_flip=True,\n",
    "      fill_mode='nearest')\n",
    "\n",
    "test_datagen = ImageDataGenerator(rescale=1./255)\n",
    "\n",
    "# Flow training images in batches of 20 using train_datagen generator\n",
    "train_generator = train_datagen.flow_from_directory(\n",
    "        train_dir,  # This is the source directory for training images\n",
    "        target_size=(150, 150),  # All images will be resized to 150x150\n",
    "        batch_size=TRAIN_BATCH_SIZE,\n",
    "        # Since we use binary_crossentropy loss, we need binary labels\n",
    "        class_mode='binary')\n",
    "\n",
    "# Flow validation images in batches of 20 using test_datagen generator\n",
    "validation_generator = test_datagen.flow_from_directory(\n",
    "        validation_dir,\n",
    "        target_size=(150, 150),\n",
    "        batch_size=VALIDATION_BATCH_SIZE,\n",
    "        class_mode='binary')\n",
    "\n",
    "# Train the new model\n",
    "history_with_aug = model_for_aug.fit(\n",
    "      train_generator,\n",
    "      steps_per_epoch=TRAIN_STEPS_PER_EPOCH,  # 2000 images = batch_size * steps\n",
    "      epochs=EPOCHS,\n",
    "      validation_data=validation_generator,\n",
    "      validation_steps=VALIDATION_STEPS_PER_EPOCH,  # 1000 images = batch_size * steps\n",
    "      verbose=2)"
   ]
  },
  {
   "cell_type": "code",
   "execution_count": 24,
   "metadata": {
    "id": "bnyRnwopT5aW"
   },
   "outputs": [
    {
     "data": {
      "image/png": "[encoded data removed]",
      "text/plain": [
       "<Figure size 432x288 with 1 Axes>"
      ]
     },
     "metadata": {
      "needs_background": "light"
     },
     "output_type": "display_data"
    },
    {
     "data": {
      "image/png": "[encoded data removed]",
      "text/plain": [
       "<Figure size 432x288 with 1 Axes>"
      ]
     },
     "metadata": {
      "needs_background": "light"
     },
     "output_type": "display_data"
    },
    {
     "data": {
      "text/plain": [
       "<Figure size 432x288 with 0 Axes>"
      ]
     },
     "metadata": {},
     "output_type": "display_data"
    }
   ],
   "source": [
    "# Plot the results of training with data augmentation\n",
    "plot_loss_acc(history_with_aug)"
   ]
  },
  {
   "cell_type": "markdown",
   "metadata": {
    "id": "1D1hd5fqmJUx"
   },
   "source": [
    "As you can see, the training accuracy has gone down compared to the baseline. This is expected because (as a result of data augmentation) there are more variety in the images so the model will need more runs to learn from them. The good thing is the validation accuracy is no longer stalling and is more in line with the training results. This means that the model is now performing better on unseen data. \n",
    "\n",
    "\n"
   ]
  },
  {
   "cell_type": "markdown",
   "metadata": {
    "id": "z4B9b6GPnKg1"
   },
   "source": [
    "## Wrap Up\n",
    "\n",
    "This exercise showed a simple trick to avoid overfitting. You can improve your baseline results by simply tweaking the same images you have already. The `ImageDataGenerator` class has built-in parameters to do just that. Try to modify the values some more in the `train_datagen` and see what results you get.\n",
    "\n",
    "Take note that this will not work for all cases. In the next lesson, Laurence will show a scenario where data augmentation will not help improve your validation accuracy."
   ]
  }
 ],
 "metadata": {
  "accelerator": "GPU",
  "colab": {
   "collapsed_sections": [],
   "name": "C2_W2_Lab_1_cats_v_dogs_augmentation.ipynb",
   "private_outputs": true,
   "provenance": [
    {
     "file_id": "https://github.com/https-deeplearning-ai/tensorflow-1-public/blob/adding_C2/C2/W2/ungraded_labs/C2_W2_Lab_1_cats_v_dogs_augmentation.ipynb",
     "timestamp": 1639637705486
    }
   ]
  },
  "kernelspec": {
   "display_name": "Python 3 (ipykernel)",
   "language": "python",
   "name": "python3"
  },
  "language_info": {
   "codemirror_mode": {
    "name": "ipython",
    "version": 3
   },
   "file_extension": ".py",
   "mimetype": "text/x-python",
   "name": "python",
   "nbconvert_exporter": "python",
   "pygments_lexer": "ipython3",
   "version": "3.8.12"
  }
 },
 "nbformat": 4,
 "nbformat_minor": 1
}
